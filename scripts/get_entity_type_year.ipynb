{
 "cells": [
  {
   "cell_type": "markdown",
   "id": "a5287084",
   "metadata": {},
   "source": [
    "**Note**:\n",
    "This notebook combines entity and entity types over the years, in separate files, into a single file."
   ]
  },
  {
   "cell_type": "code",
   "execution_count": 1,
   "id": "0cec9595",
   "metadata": {
    "ExecuteTime": {
     "end_time": "2022-07-31T10:49:58.020220Z",
     "start_time": "2022-07-31T10:49:55.864600Z"
    }
   },
   "outputs": [
    {
     "data": {
      "text/plain": [
       "['toi_ner_1838.csv.gz',\n",
       " 'toi_ner_1839.csv.gz',\n",
       " 'toi_ner_1840.csv.gz',\n",
       " 'toi_ner_1841.csv.gz',\n",
       " 'toi_ner_1842.csv.gz']"
      ]
     },
     "execution_count": 1,
     "metadata": {},
     "output_type": "execute_result"
    }
   ],
   "source": [
    "import os\n",
    "import pandas as pd\n",
    "import warnings\n",
    "warnings.filterwarnings('ignore')\n",
    "import janitor\n",
    "from tqdm.notebook import tqdm\n",
    "import ast\n",
    "import gc\n",
    "\n",
    "LF_FP = '../../toi-lf/ner'\n",
    "filelist = os.listdir(LF_FP)\n",
    "yearly_datafiles = [filename for filename in filelist if filename.endswith(\".csv.gz\")]\n",
    "yearly_datafiles[:5]"
   ]
  },
  {
   "cell_type": "code",
   "execution_count": null,
   "id": "1133a54d",
   "metadata": {
    "ExecuteTime": {
     "start_time": "2022-07-31T10:49:55.864Z"
    },
    "scrolled": true
   },
   "outputs": [
    {
     "data": {
      "application/vnd.jupyter.widget-view+json": {
       "model_id": "18867f090b6b4c28b38bef9555d26e9f",
       "version_major": 2,
       "version_minor": 0
      },
      "text/plain": [
       "  0%|          | 0/171 [00:00<?, ?it/s]"
      ]
     },
     "metadata": {},
     "output_type": "display_data"
    }
   ],
   "source": [
    "df_full = pd.DataFrame()\n",
    "for filename in tqdm(yearly_datafiles):\n",
    "    year = filename.split('_')[2].split('.')[0]\n",
    "    df = (pd.read_csv(os.path.join(LF_FP, filename), usecols=['ner'])\n",
    "          .assign(\n",
    "              ner=lambda df: [ast.literal_eval(strlist) for strlist in df.ner],\n",
    "              yearofpub=year\n",
    "          )\n",
    "          .explode('ner')\n",
    "          .query('ner==ner')\n",
    "         )\n",
    "    for ix, col in enumerate(['entity', 'nertype']):\n",
    "        df[col] = df['ner'].apply(lambda nertuple: nertuple[ix])\n",
    "    \n",
    "    df_full = df_full.append(df.drop('ner', axis=1), ignore_index=True)\n",
    "    del df\n",
    "    gc.collect()"
   ]
  },
  {
   "cell_type": "code",
   "execution_count": null,
   "id": "f2c88e9d",
   "metadata": {
    "ExecuteTime": {
     "start_time": "2022-07-31T10:49:55.865Z"
    }
   },
   "outputs": [],
   "source": [
    "df_full.to_csv('../../toi-lf/entity_type_year.csv.gz', compression='gzip', index=False)"
   ]
  },
  {
   "cell_type": "code",
   "execution_count": null,
   "id": "3b3e62a7",
   "metadata": {
    "ExecuteTime": {
     "start_time": "2022-07-31T10:49:55.866Z"
    }
   },
   "outputs": [],
   "source": [
    "df_full.head(2)"
   ]
  },
  {
   "cell_type": "code",
   "execution_count": null,
   "id": "4373ce99",
   "metadata": {
    "ExecuteTime": {
     "start_time": "2022-07-31T10:49:55.867Z"
    }
   },
   "outputs": [],
   "source": [
    "df_agg = (df_full.groupby(['entity', 'nertype']).size().reset_index()\n",
    "          .rename_column(0, 'count')\n",
    "          .sort_values('count', ascending=False)\n",
    "         )\n",
    "df_agg.to_csv('../../toi-lf/entity_type_agg.csv.gz', compression='gzip', index=False)"
   ]
  },
  {
   "cell_type": "code",
   "execution_count": null,
   "id": "40de8247",
   "metadata": {
    "ExecuteTime": {
     "start_time": "2022-07-31T10:49:55.867Z"
    }
   },
   "outputs": [],
   "source": [
    "# Save top 1k persons\n",
    "(df_agg\n",
    " .query('nertype==\"PERSON\"')\n",
    " .sort_values('count', ascending=False)\n",
    " .pipe(lambda df: df[:1000])\n",
    ").to_csv('../data/toi_top1000_persons.csv', index=False)"
   ]
  },
  {
   "cell_type": "code",
   "execution_count": null,
   "id": "31acea00",
   "metadata": {
    "ExecuteTime": {
     "start_time": "2022-07-31T10:49:55.869Z"
    }
   },
   "outputs": [],
   "source": [
    "# Save top 1k GPE\n",
    "(df_agg\n",
    " .query('nertype==\"GPE\"')\n",
    " .sort_values('count', ascending=False)\n",
    " .pipe(lambda df: df[:1000])\n",
    ").to_csv('../data/toi_top1000_gpe.csv', index=False)"
   ]
  },
  {
   "cell_type": "code",
   "execution_count": null,
   "id": "7b3fef36",
   "metadata": {},
   "outputs": [],
   "source": []
  }
 ],
 "metadata": {
  "kernelspec": {
   "display_name": "Python 3",
   "language": "python",
   "name": "python3"
  },
  "language_info": {
   "codemirror_mode": {
    "name": "ipython",
    "version": 3
   },
   "file_extension": ".py",
   "mimetype": "text/x-python",
   "name": "python",
   "nbconvert_exporter": "python",
   "pygments_lexer": "ipython3",
   "version": "3.9.12"
  },
  "toc": {
   "base_numbering": 1,
   "nav_menu": {},
   "number_sections": true,
   "sideBar": true,
   "skip_h1_title": false,
   "title_cell": "Table of Contents",
   "title_sidebar": "Contents",
   "toc_cell": false,
   "toc_position": {},
   "toc_section_display": true,
   "toc_window_display": false
  },
  "varInspector": {
   "cols": {
    "lenName": 16,
    "lenType": 16,
    "lenVar": 40
   },
   "kernels_config": {
    "python": {
     "delete_cmd_postfix": "",
     "delete_cmd_prefix": "del ",
     "library": "var_list.py",
     "varRefreshCmd": "print(var_dic_list())"
    },
    "r": {
     "delete_cmd_postfix": ") ",
     "delete_cmd_prefix": "rm(",
     "library": "var_list.r",
     "varRefreshCmd": "cat(var_dic_list()) "
    }
   },
   "types_to_exclude": [
    "module",
    "function",
    "builtin_function_or_method",
    "instance",
    "_Feature"
   ],
   "window_display": false
  }
 },
 "nbformat": 4,
 "nbformat_minor": 5
}
