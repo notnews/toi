{
 "cells": [
  {
   "cell_type": "code",
   "execution_count": 1,
   "id": "7a076797",
   "metadata": {
    "ExecuteTime": {
     "end_time": "2022-07-26T13:18:58.397714Z",
     "start_time": "2022-07-26T13:18:53.851688Z"
    }
   },
   "outputs": [
    {
     "data": {
      "text/plain": [
       "['toi_ner_1838.csv.gz',\n",
       " 'toi_ner_1839.csv.gz',\n",
       " 'toi_ner_1840.csv.gz',\n",
       " 'toi_ner_1841.csv.gz',\n",
       " 'toi_ner_1842.csv.gz']"
      ]
     },
     "execution_count": 1,
     "metadata": {},
     "output_type": "execute_result"
    }
   ],
   "source": [
    "import os\n",
    "import pandas as pd\n",
    "import janitor\n",
    "import numpy as np\n",
    "import ast\n",
    "from tqdm.notebook import tqdm\n",
    "from pranaam import pranaam\n",
    "from outkast import secc_caste\n",
    "from naampy import predict_fn_gender\n",
    "import gc\n",
    "import warnings\n",
    "warnings.filterwarnings('ignore')\n",
    "import telegram_send\n",
    "\n",
    "LF_FP = '../../toi-lf/ner'\n",
    "filelist = os.listdir(LF_FP)\n",
    "yearly_datafiles = [filename for filename in filelist if filename.endswith(\".csv.gz\")]\n",
    "yearly_datafiles[:5]"
   ]
  },
  {
   "cell_type": "code",
   "execution_count": 2,
   "id": "f61b4a32",
   "metadata": {
    "ExecuteTime": {
     "end_time": "2022-07-26T13:18:58.413721Z",
     "start_time": "2022-07-26T13:18:58.398715Z"
    },
    "code_folding": []
   },
   "outputs": [],
   "source": [
    "# (fold cell)Helper functions for minority dist.\n",
    "def person_from_nerlist(dataframe, nercol='ner'):\n",
    "    \"\"\"\n",
    "    Take the dataframe with column of list of ner tuples (eg [('26', 'CARDINAL'), ('Indranil Basu TNN', 'PE...)\n",
    "    and return a dataframe with a column of persons and last names.\n",
    "    \"\"\"\n",
    "    _df = (dataframe.copy()\n",
    "           .add_column('persons', '')\n",
    "          )\n",
    "    for ix, row in _df.iterrows():\n",
    "        persons = row['persons']\n",
    "        if persons!='':\n",
    "            continue\n",
    "        else:\n",
    "            persons = []\n",
    "\n",
    "        ners = row['ner']\n",
    "        ners = ast.literal_eval(ners)\n",
    "        for ner in ners:\n",
    "            entity, entitytype = ner\n",
    "            if entitytype.lower()==\"person\":    \n",
    "                persons.append(entity)\n",
    "\n",
    "        _df.at[ix, 'persons'] = persons\n",
    "    \n",
    "    _df = (_df\n",
    "           .remove_columns(nercol)\n",
    "           .explode(column='persons')\n",
    "           .assign(last=lambda df: df.persons.apply(lambda x: str(x).split(' ')[-1]))\n",
    "           .dropna(subset='persons')\n",
    "          )    \n",
    "    return _df\n",
    "\n",
    "def get_muslim_dist(dataframe, personcol='persons'):\n",
    "    \"\"\"\n",
    "    Get distribution of muslims using pranaam.\n",
    "    \"\"\"\n",
    "    namelist = dataframe.drop_duplicates(personcol)[personcol].tolist()\n",
    "    dataframe = (dataframe\n",
    "                 .merge((pranaam.pred_rel(namelist).dropna(subset='pred_label')), \n",
    "                        how='left', left_on=personcol, right_on='name', validate='m:1')\n",
    "                 .dropna(subset='pred_label')\n",
    "                )    \n",
    "    dist = len(dataframe.query('pred_label==\"muslim\"'))/len(dataframe)    \n",
    "    return dist\n",
    "\n",
    "def get_caste_dist(dataframe, lastnamecol='last'):\n",
    "    \"\"\"\n",
    "    Get distribution of castes (sc, st, others) using outkast.\n",
    "    \"\"\"\n",
    "    dataframe = (dataframe\n",
    "                 .merge((secc_caste(dataframe.drop_duplicates(lastnamecol), lastnamecol)\n",
    "                         .filter([lastnamecol, 'n_sc', 'n_st', 'n_other', 'prop_sc', 'prop_st','prop_other'])\n",
    "                   ), \n",
    "                   how='left', on=lastnamecol, validate='m:1')\n",
    "                 .assign(pred_caste=lambda df: df[['prop_sc', 'prop_st', 'prop_other']].idxmax(axis=1))\n",
    "                 .dropna(subset='pred_caste')\n",
    "                )    \n",
    "    npred = len(dataframe)\n",
    "    nsc = len(dataframe.query('pred_caste==\"prop_sc\"')) \n",
    "    nst = len(dataframe.query('pred_caste==\"prop_st\"')) \n",
    "    nstsc = len(dataframe.query('pred_caste==\"prop_st\"|pred_caste==\"prop_sc\"')) \n",
    "    \n",
    "    dist_sc = nsc/npred\n",
    "    dist_st = nst/npred\n",
    "    dist_stsc = nstsc/npred\n",
    "    return dist_sc, dist_st, dist_stsc\n",
    "\n",
    "def get_women_dist(dataframe, personcol='persons'):\n",
    "    \"\"\"\n",
    "    Get distribution of women using naampy.\n",
    "    \"\"\"\n",
    "    personslist = dataframe[personcol].dropna().tolist()\n",
    "    _df = (dataframe.merge((predict_fn_gender(personslist)\n",
    "                            .drop_duplicates(subset='name')\n",
    "                            .dropna(subset='pred_gender')\n",
    "                           ), \n",
    "                           left_on=personcol, right_on='name', how='left', validate='m:1')\n",
    "          )\n",
    "    _df = _df.dropna(subset='pred_gender')\n",
    "    women_dist = len(_df.query('pred_gender==\"female\"'))/len(_df)\n",
    "    return women_dist"
   ]
  },
  {
   "cell_type": "code",
   "execution_count": 4,
   "id": "242ff092",
   "metadata": {
    "ExecuteTime": {
     "end_time": "2022-07-29T03:51:16.524832Z",
     "start_time": "2022-07-26T13:18:58.430725Z"
    },
    "code_folding": [],
    "scrolled": false
   },
   "outputs": [
    {
     "data": {
      "application/vnd.jupyter.widget-view+json": {
       "model_id": "16fe6fdd6d6f4e0a872a22764877da11",
       "version_major": 2,
       "version_minor": 0
      },
      "text/plain": [
       "  0%|          | 0/171 [00:00<?, ?it/s]"
      ]
     },
     "metadata": {},
     "output_type": "display_data"
    },
    {
     "name": "stdout",
     "output_type": "stream",
     "text": [
      "Model path D:\\ProgramData\\Anaconda3\\lib\\site-packages\\pranaam\\model\n"
     ]
    }
   ],
   "source": [
    "payload_dict = {}\n",
    "for filename in tqdm(yearly_datafiles):\n",
    "    year = filename.split('_')[2].split('.')[0]\n",
    "    df = pd.read_csv(os.path.join(LF_FP, filename), usecols=['ner'])\n",
    "    if len(df)==0: \n",
    "        payload_dict[year] = [0, 0, np.nan, np.nan, np.nan, np.nan, np.nan] \n",
    "        del df\n",
    "        gc.collect()\n",
    "    else:\n",
    "        df_persons = person_from_nerlist(df)\n",
    "        narticles, npersons = len(df), len(df_persons)\n",
    "\n",
    "        muslim_dist = get_muslim_dist(df_persons)    \n",
    "        dist_sc, dist_st, dist_stsc = get_caste_dist(df_persons)\n",
    "        women_dist = get_women_dist(df_persons)\n",
    "\n",
    "        del df, df_persons\n",
    "        gc.collect()\n",
    "\n",
    "        payload_dict[year] = [narticles, npersons, muslim_dist, dist_sc, dist_st, dist_stsc, women_dist]"
   ]
  },
  {
   "cell_type": "code",
   "execution_count": 5,
   "id": "d7303c1c",
   "metadata": {
    "ExecuteTime": {
     "end_time": "2022-07-29T03:51:17.399029Z",
     "start_time": "2022-07-29T03:51:16.526832Z"
    }
   },
   "outputs": [
    {
     "data": {
      "text/plain": [
       "[4178]"
      ]
     },
     "execution_count": 5,
     "metadata": {},
     "output_type": "execute_result"
    }
   ],
   "source": [
    "# telegram_send.send(messages=[f\"TOI year parsing completed\"])     "
   ]
  },
  {
   "cell_type": "code",
   "execution_count": 8,
   "id": "fe7b8d4c",
   "metadata": {
    "ExecuteTime": {
     "end_time": "2022-07-31T06:11:48.659268Z",
     "start_time": "2022-07-31T06:11:48.540316Z"
    },
    "scrolled": false
   },
   "outputs": [
    {
     "data": {
      "text/html": [
       "<div>\n",
       "<style scoped>\n",
       "    .dataframe tbody tr th:only-of-type {\n",
       "        vertical-align: middle;\n",
       "    }\n",
       "\n",
       "    .dataframe tbody tr th {\n",
       "        vertical-align: top;\n",
       "    }\n",
       "\n",
       "    .dataframe thead th {\n",
       "        text-align: right;\n",
       "    }\n",
       "</style>\n",
       "<table border=\"1\" class=\"dataframe\">\n",
       "  <thead>\n",
       "    <tr style=\"text-align: right;\">\n",
       "      <th></th>\n",
       "      <th>narticles</th>\n",
       "      <th>npersons</th>\n",
       "      <th>muslim_dist</th>\n",
       "      <th>dist_sc</th>\n",
       "      <th>dist_st</th>\n",
       "      <th>dist_stsc</th>\n",
       "      <th>women_dist</th>\n",
       "    </tr>\n",
       "  </thead>\n",
       "  <tbody>\n",
       "    <tr>\n",
       "      <th>1838</th>\n",
       "      <td>768</td>\n",
       "      <td>8262</td>\n",
       "      <td>0.046115</td>\n",
       "      <td>0.007126</td>\n",
       "      <td>0.064133</td>\n",
       "      <td>0.071259</td>\n",
       "      <td>0.290448</td>\n",
       "    </tr>\n",
       "    <tr>\n",
       "      <th>1839</th>\n",
       "      <td>4911</td>\n",
       "      <td>53514</td>\n",
       "      <td>0.055313</td>\n",
       "      <td>0.020194</td>\n",
       "      <td>0.146204</td>\n",
       "      <td>0.166397</td>\n",
       "      <td>0.355715</td>\n",
       "    </tr>\n",
       "    <tr>\n",
       "      <th>1840</th>\n",
       "      <td>5186</td>\n",
       "      <td>54022</td>\n",
       "      <td>0.053441</td>\n",
       "      <td>0.024977</td>\n",
       "      <td>0.139685</td>\n",
       "      <td>0.164662</td>\n",
       "      <td>0.368007</td>\n",
       "    </tr>\n",
       "    <tr>\n",
       "      <th>1841</th>\n",
       "      <td>5029</td>\n",
       "      <td>63760</td>\n",
       "      <td>0.057842</td>\n",
       "      <td>0.027051</td>\n",
       "      <td>0.222077</td>\n",
       "      <td>0.249127</td>\n",
       "      <td>0.391339</td>\n",
       "    </tr>\n",
       "    <tr>\n",
       "      <th>1842</th>\n",
       "      <td>5216</td>\n",
       "      <td>70015</td>\n",
       "      <td>0.058416</td>\n",
       "      <td>0.019980</td>\n",
       "      <td>0.181172</td>\n",
       "      <td>0.201151</td>\n",
       "      <td>0.367358</td>\n",
       "    </tr>\n",
       "    <tr>\n",
       "      <th>...</th>\n",
       "      <td>...</td>\n",
       "      <td>...</td>\n",
       "      <td>...</td>\n",
       "      <td>...</td>\n",
       "      <td>...</td>\n",
       "      <td>...</td>\n",
       "      <td>...</td>\n",
       "    </tr>\n",
       "    <tr>\n",
       "      <th>2004</th>\n",
       "      <td>71408</td>\n",
       "      <td>393313</td>\n",
       "      <td>0.066652</td>\n",
       "      <td>0.034775</td>\n",
       "      <td>0.017917</td>\n",
       "      <td>0.052692</td>\n",
       "      <td>0.334882</td>\n",
       "    </tr>\n",
       "    <tr>\n",
       "      <th>2005</th>\n",
       "      <td>92458</td>\n",
       "      <td>513775</td>\n",
       "      <td>0.067082</td>\n",
       "      <td>0.039112</td>\n",
       "      <td>0.015735</td>\n",
       "      <td>0.054848</td>\n",
       "      <td>0.304835</td>\n",
       "    </tr>\n",
       "    <tr>\n",
       "      <th>2006</th>\n",
       "      <td>100581</td>\n",
       "      <td>553536</td>\n",
       "      <td>0.070039</td>\n",
       "      <td>0.038074</td>\n",
       "      <td>0.017461</td>\n",
       "      <td>0.055535</td>\n",
       "      <td>0.332305</td>\n",
       "    </tr>\n",
       "    <tr>\n",
       "      <th>2007</th>\n",
       "      <td>101360</td>\n",
       "      <td>569581</td>\n",
       "      <td>0.067372</td>\n",
       "      <td>0.037172</td>\n",
       "      <td>0.016970</td>\n",
       "      <td>0.054142</td>\n",
       "      <td>0.286977</td>\n",
       "    </tr>\n",
       "    <tr>\n",
       "      <th>2008</th>\n",
       "      <td>103894</td>\n",
       "      <td>580364</td>\n",
       "      <td>0.064156</td>\n",
       "      <td>0.035634</td>\n",
       "      <td>0.019725</td>\n",
       "      <td>0.055359</td>\n",
       "      <td>0.281328</td>\n",
       "    </tr>\n",
       "  </tbody>\n",
       "</table>\n",
       "<p>171 rows × 7 columns</p>\n",
       "</div>"
      ],
      "text/plain": [
       "      narticles  npersons  muslim_dist   dist_sc   dist_st  dist_stsc  \\\n",
       "1838        768      8262     0.046115  0.007126  0.064133   0.071259   \n",
       "1839       4911     53514     0.055313  0.020194  0.146204   0.166397   \n",
       "1840       5186     54022     0.053441  0.024977  0.139685   0.164662   \n",
       "1841       5029     63760     0.057842  0.027051  0.222077   0.249127   \n",
       "1842       5216     70015     0.058416  0.019980  0.181172   0.201151   \n",
       "...         ...       ...          ...       ...       ...        ...   \n",
       "2004      71408    393313     0.066652  0.034775  0.017917   0.052692   \n",
       "2005      92458    513775     0.067082  0.039112  0.015735   0.054848   \n",
       "2006     100581    553536     0.070039  0.038074  0.017461   0.055535   \n",
       "2007     101360    569581     0.067372  0.037172  0.016970   0.054142   \n",
       "2008     103894    580364     0.064156  0.035634  0.019725   0.055359   \n",
       "\n",
       "      women_dist  \n",
       "1838    0.290448  \n",
       "1839    0.355715  \n",
       "1840    0.368007  \n",
       "1841    0.391339  \n",
       "1842    0.367358  \n",
       "...          ...  \n",
       "2004    0.334882  \n",
       "2005    0.304835  \n",
       "2006    0.332305  \n",
       "2007    0.286977  \n",
       "2008    0.281328  \n",
       "\n",
       "[171 rows x 7 columns]"
      ]
     },
     "execution_count": 8,
     "metadata": {},
     "output_type": "execute_result"
    }
   ],
   "source": [
    "colnames = ['narticles', 'npersons', 'muslim_dist', 'dist_sc', 'dist_st', 'dist_stsc', 'women_dist']\n",
    "df_out = pd.DataFrame.from_dict(payload_dict, orient='index', columns=colnames)\n",
    "df_out.to_csv('../data/toi_yearly_minority_dist.csv')\n",
    "df_out"
   ]
  },
  {
   "cell_type": "code",
   "execution_count": 7,
   "id": "fa8af03b",
   "metadata": {
    "ExecuteTime": {
     "end_time": "2022-07-29T03:51:17.943152Z",
     "start_time": "2022-07-29T03:51:17.480048Z"
    }
   },
   "outputs": [
    {
     "data": {
      "text/plain": [
       "<AxesSubplot:>"
      ]
     },
     "execution_count": 7,
     "metadata": {},
     "output_type": "execute_result"
    },
    {
     "data": {
      "image/png": "[encoded data removed]",
      "text/plain": [
       "<Figure size 432x288 with 1 Axes>"
      ]
     },
     "metadata": {
      "needs_background": "light"
     },
     "output_type": "display_data"
    }
   ],
   "source": [
    "df_out[['muslim_dist', 'dist_sc', 'dist_st', 'dist_stsc', 'women_dist']].plot()"
   ]
  },
  {
   "cell_type": "code",
   "execution_count": null,
   "id": "e831419b",
   "metadata": {
    "collapsed": true
   },
   "outputs": [],
   "source": []
  }
 ],
 "metadata": {
  "kernelspec": {
   "display_name": "Python 3",
   "language": "python",
   "name": "python3"
  },
  "language_info": {
   "codemirror_mode": {
    "name": "ipython",
    "version": 3
   },
   "file_extension": ".py",
   "mimetype": "text/x-python",
   "name": "python",
   "nbconvert_exporter": "python",
   "pygments_lexer": "ipython3",
   "version": "3.9.12"
  },
  "toc": {
   "base_numbering": 1,
   "nav_menu": {},
   "number_sections": true,
   "sideBar": true,
   "skip_h1_title": false,
   "title_cell": "Table of Contents",
   "title_sidebar": "Contents",
   "toc_cell": false,
   "toc_position": {},
   "toc_section_display": true,
   "toc_window_display": false
  },
  "varInspector": {
   "cols": {
    "lenName": 16,
    "lenType": 16,
    "lenVar": 40
   },
   "kernels_config": {
    "python": {
     "delete_cmd_postfix": "",
     "delete_cmd_prefix": "del ",
     "library": "var_list.py",
     "varRefreshCmd": "print(var_dic_list())"
    },
    "r": {
     "delete_cmd_postfix": ") ",
     "delete_cmd_prefix": "rm(",
     "library": "var_list.r",
     "varRefreshCmd": "cat(var_dic_list()) "
    }
   },
   "types_to_exclude": [
    "module",
    "function",
    "builtin_function_or_method",
    "instance",
    "_Feature"
   ],
   "window_display": false
  }
 },
 "nbformat": 4,
 "nbformat_minor": 5
}
