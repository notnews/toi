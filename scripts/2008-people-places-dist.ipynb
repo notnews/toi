{
 "cells": [
  {
   "cell_type": "code",
   "execution_count": 1,
   "id": "6ee4ef65",
   "metadata": {
    "ExecuteTime": {
     "end_time": "2022-07-24T02:45:11.508624Z",
     "start_time": "2022-07-24T02:45:06.741548Z"
    }
   },
   "outputs": [],
   "source": [
    "import pandas as pd\n",
    "import janitor\n",
    "import numpy as np\n",
    "import ast\n",
    "from tqdm.notebook import tqdm\n",
    "from pranaam import pranaam\n",
    "from outkast import secc_caste\n",
    "from naampy import predict_fn_gender\n",
    "import warnings\n",
    "warnings.filterwarnings('ignore')\n",
    "\n",
    "FP = '2008ner.csv.gz'"
   ]
  },
  {
   "cell_type": "code",
   "execution_count": 2,
   "id": "353afb1c",
   "metadata": {
    "ExecuteTime": {
     "end_time": "2022-07-24T02:45:12.557861Z",
     "start_time": "2022-07-24T02:45:11.509625Z"
    },
    "code_folding": [],
    "scrolled": true
   },
   "outputs": [
    {
     "data": {
      "text/html": [
       "<div>\n",
       "<style scoped>\n",
       "    .dataframe tbody tr th:only-of-type {\n",
       "        vertical-align: middle;\n",
       "    }\n",
       "\n",
       "    .dataframe tbody tr th {\n",
       "        vertical-align: top;\n",
       "    }\n",
       "\n",
       "    .dataframe thead th {\n",
       "        text-align: right;\n",
       "    }\n",
       "</style>\n",
       "<table border=\"1\" class=\"dataframe\">\n",
       "  <thead>\n",
       "    <tr style=\"text-align: right;\">\n",
       "      <th></th>\n",
       "      <th>objecttype</th>\n",
       "      <th>numericpubdate</th>\n",
       "      <th>date</th>\n",
       "      <th>year</th>\n",
       "      <th>completed</th>\n",
       "      <th>ner</th>\n",
       "      <th>persons</th>\n",
       "    </tr>\n",
       "  </thead>\n",
       "  <tbody>\n",
       "    <tr>\n",
       "      <th>0</th>\n",
       "      <td>Review</td>\n",
       "      <td>20080810</td>\n",
       "      <td>2008-08-10</td>\n",
       "      <td>2008</td>\n",
       "      <td>True</td>\n",
       "      <td>[('Ranbir Kapoor', 'PERSON'), ('three', 'CARDI...</td>\n",
       "      <td></td>\n",
       "    </tr>\n",
       "    <tr>\n",
       "      <th>1</th>\n",
       "      <td>['Feature', 'Article']</td>\n",
       "      <td>20080302</td>\n",
       "      <td>2008-03-02</td>\n",
       "      <td>2008</td>\n",
       "      <td>True</td>\n",
       "      <td>[('24 hours', 'TIME'), ('Mumbai', 'GPE'), ('Me...</td>\n",
       "      <td></td>\n",
       "    </tr>\n",
       "    <tr>\n",
       "      <th>2</th>\n",
       "      <td>['Feature', 'Article']</td>\n",
       "      <td>20081225</td>\n",
       "      <td>2008-12-25</td>\n",
       "      <td>2008</td>\n",
       "      <td>True</td>\n",
       "      <td>[('Navy', 'ORG'), ('Chidambaram', 'WORK_OF_ART...</td>\n",
       "      <td></td>\n",
       "    </tr>\n",
       "  </tbody>\n",
       "</table>\n",
       "</div>"
      ],
      "text/plain": [
       "               objecttype  numericpubdate        date  year  completed  \\\n",
       "0                  Review        20080810  2008-08-10  2008       True   \n",
       "1  ['Feature', 'Article']        20080302  2008-03-02  2008       True   \n",
       "2  ['Feature', 'Article']        20081225  2008-12-25  2008       True   \n",
       "\n",
       "                                                 ner persons  \n",
       "0  [('Ranbir Kapoor', 'PERSON'), ('three', 'CARDI...          \n",
       "1  [('24 hours', 'TIME'), ('Mumbai', 'GPE'), ('Me...          \n",
       "2  [('Navy', 'ORG'), ('Chidambaram', 'WORK_OF_ART...          "
      ]
     },
     "execution_count": 2,
     "metadata": {},
     "output_type": "execute_result"
    }
   ],
   "source": [
    "df = (pd.read_csv(FP, compression='gzip')\n",
    "      .assign(persons='')\n",
    "     )\n",
    "df.head(3)"
   ]
  },
  {
   "cell_type": "code",
   "execution_count": 3,
   "id": "230c2401",
   "metadata": {
    "ExecuteTime": {
     "end_time": "2022-07-24T02:45:12.573865Z",
     "start_time": "2022-07-24T02:45:12.558861Z"
    },
    "scrolled": true
   },
   "outputs": [
    {
     "data": {
      "text/plain": [
       "103894"
      ]
     },
     "execution_count": 3,
     "metadata": {},
     "output_type": "execute_result"
    }
   ],
   "source": [
    "len(df)"
   ]
  },
  {
   "cell_type": "code",
   "execution_count": 4,
   "id": "20499f1a",
   "metadata": {
    "ExecuteTime": {
     "end_time": "2022-07-24T02:45:39.734995Z",
     "start_time": "2022-07-24T02:45:12.575866Z"
    },
    "code_folding": []
   },
   "outputs": [
    {
     "data": {
      "application/vnd.jupyter.widget-view+json": {
       "model_id": "795781bc843b4c4da5450322e8d05c71",
       "version_major": 2,
       "version_minor": 0
      },
      "text/plain": [
       "0it [00:00, ?it/s]"
      ]
     },
     "metadata": {},
     "output_type": "display_data"
    }
   ],
   "source": [
    "# get person only\n",
    "for ix, row in tqdm(df.iterrows()):\n",
    "    persons = row['persons']\n",
    "    if persons!='':\n",
    "        continue\n",
    "    else:\n",
    "        persons = []\n",
    "        \n",
    "    ners = row['ner']\n",
    "    ners = ast.literal_eval(ners)\n",
    "    for ner in ners:\n",
    "        entity, entitytype = ner\n",
    "        if entitytype.lower()==\"person\":    \n",
    "            persons.append(entity)\n",
    "    \n",
    "    df.at[ix, 'persons'] = persons\n",
    "#     print(persons)"
   ]
  },
  {
   "cell_type": "code",
   "execution_count": 5,
   "id": "46470f47",
   "metadata": {
    "ExecuteTime": {
     "end_time": "2022-07-24T02:45:40.180097Z",
     "start_time": "2022-07-24T02:45:39.735997Z"
    },
    "scrolled": true
   },
   "outputs": [
    {
     "data": {
      "text/html": [
       "<div>\n",
       "<style scoped>\n",
       "    .dataframe tbody tr th:only-of-type {\n",
       "        vertical-align: middle;\n",
       "    }\n",
       "\n",
       "    .dataframe tbody tr th {\n",
       "        vertical-align: top;\n",
       "    }\n",
       "\n",
       "    .dataframe thead th {\n",
       "        text-align: right;\n",
       "    }\n",
       "</style>\n",
       "<table border=\"1\" class=\"dataframe\">\n",
       "  <thead>\n",
       "    <tr style=\"text-align: right;\">\n",
       "      <th></th>\n",
       "      <th>objecttype</th>\n",
       "      <th>numericpubdate</th>\n",
       "      <th>date</th>\n",
       "      <th>year</th>\n",
       "      <th>completed</th>\n",
       "      <th>ner</th>\n",
       "      <th>persons</th>\n",
       "      <th>last</th>\n",
       "    </tr>\n",
       "  </thead>\n",
       "  <tbody>\n",
       "    <tr>\n",
       "      <th>0</th>\n",
       "      <td>Review</td>\n",
       "      <td>20080810</td>\n",
       "      <td>2008-08-10</td>\n",
       "      <td>2008</td>\n",
       "      <td>True</td>\n",
       "      <td>[('Ranbir Kapoor', 'PERSON'), ('three', 'CARDI...</td>\n",
       "      <td>Ranbir Kapoor</td>\n",
       "      <td>Kapoor</td>\n",
       "    </tr>\n",
       "    <tr>\n",
       "      <th>0</th>\n",
       "      <td>Review</td>\n",
       "      <td>20080810</td>\n",
       "      <td>2008-08-10</td>\n",
       "      <td>2008</td>\n",
       "      <td>True</td>\n",
       "      <td>[('Ranbir Kapoor', 'PERSON'), ('three', 'CARDI...</td>\n",
       "      <td>Sanjay Leela Bhansali</td>\n",
       "      <td>Bhansali</td>\n",
       "    </tr>\n",
       "    <tr>\n",
       "      <th>0</th>\n",
       "      <td>Review</td>\n",
       "      <td>20080810</td>\n",
       "      <td>2008-08-10</td>\n",
       "      <td>2008</td>\n",
       "      <td>True</td>\n",
       "      <td>[('Ranbir Kapoor', 'PERSON'), ('three', 'CARDI...</td>\n",
       "      <td>Bipasha Basu</td>\n",
       "      <td>Basu</td>\n",
       "    </tr>\n",
       "  </tbody>\n",
       "</table>\n",
       "</div>"
      ],
      "text/plain": [
       "  objecttype  numericpubdate        date  year  completed  \\\n",
       "0     Review        20080810  2008-08-10  2008       True   \n",
       "0     Review        20080810  2008-08-10  2008       True   \n",
       "0     Review        20080810  2008-08-10  2008       True   \n",
       "\n",
       "                                                 ner                persons  \\\n",
       "0  [('Ranbir Kapoor', 'PERSON'), ('three', 'CARDI...          Ranbir Kapoor   \n",
       "0  [('Ranbir Kapoor', 'PERSON'), ('three', 'CARDI...  Sanjay Leela Bhansali   \n",
       "0  [('Ranbir Kapoor', 'PERSON'), ('three', 'CARDI...           Bipasha Basu   \n",
       "\n",
       "       last  \n",
       "0    Kapoor  \n",
       "0  Bhansali  \n",
       "0      Basu  "
      ]
     },
     "execution_count": 5,
     "metadata": {},
     "output_type": "execute_result"
    }
   ],
   "source": [
    "df = (df\n",
    "      .explode(column='persons')\n",
    "      .assign(\n",
    "          last=lambda df: df.persons.apply(lambda x: str(x).split(' ')[-1])\n",
    "      )\n",
    "     )\n",
    "df.head(3)"
   ]
  },
  {
   "cell_type": "code",
   "execution_count": 6,
   "id": "37b6b392",
   "metadata": {
    "ExecuteTime": {
     "end_time": "2022-07-24T02:46:57.513546Z",
     "start_time": "2022-07-24T02:45:40.181096Z"
    }
   },
   "outputs": [
    {
     "name": "stdout",
     "output_type": "stream",
     "text": [
      "Model path D:\\ProgramData\\Anaconda3\\lib\\site-packages\\pranaam\\model\n"
     ]
    },
    {
     "data": {
      "text/html": [
       "<div>\n",
       "<style scoped>\n",
       "    .dataframe tbody tr th:only-of-type {\n",
       "        vertical-align: middle;\n",
       "    }\n",
       "\n",
       "    .dataframe tbody tr th {\n",
       "        vertical-align: top;\n",
       "    }\n",
       "\n",
       "    .dataframe thead th {\n",
       "        text-align: right;\n",
       "    }\n",
       "</style>\n",
       "<table border=\"1\" class=\"dataframe\">\n",
       "  <thead>\n",
       "    <tr style=\"text-align: right;\">\n",
       "      <th></th>\n",
       "      <th>objecttype</th>\n",
       "      <th>numericpubdate</th>\n",
       "      <th>date</th>\n",
       "      <th>year</th>\n",
       "      <th>completed</th>\n",
       "      <th>ner</th>\n",
       "      <th>persons</th>\n",
       "      <th>last</th>\n",
       "      <th>pred_religion</th>\n",
       "      <th>pred_prob_muslim</th>\n",
       "      <th>pred_muslim</th>\n",
       "    </tr>\n",
       "  </thead>\n",
       "  <tbody>\n",
       "    <tr>\n",
       "      <th>0</th>\n",
       "      <td>Review</td>\n",
       "      <td>20080810</td>\n",
       "      <td>2008-08-10</td>\n",
       "      <td>2008</td>\n",
       "      <td>True</td>\n",
       "      <td>[('Ranbir Kapoor', 'PERSON'), ('three', 'CARDI...</td>\n",
       "      <td>Ranbir Kapoor</td>\n",
       "      <td>Kapoor</td>\n",
       "      <td>not-muslim</td>\n",
       "      <td>37.0</td>\n",
       "      <td>0</td>\n",
       "    </tr>\n",
       "    <tr>\n",
       "      <th>1</th>\n",
       "      <td>Review</td>\n",
       "      <td>20080810</td>\n",
       "      <td>2008-08-10</td>\n",
       "      <td>2008</td>\n",
       "      <td>True</td>\n",
       "      <td>[('Ranbir Kapoor', 'PERSON'), ('three', 'CARDI...</td>\n",
       "      <td>Sanjay Leela Bhansali</td>\n",
       "      <td>Bhansali</td>\n",
       "      <td>not-muslim</td>\n",
       "      <td>27.0</td>\n",
       "      <td>0</td>\n",
       "    </tr>\n",
       "    <tr>\n",
       "      <th>2</th>\n",
       "      <td>Review</td>\n",
       "      <td>20080810</td>\n",
       "      <td>2008-08-10</td>\n",
       "      <td>2008</td>\n",
       "      <td>True</td>\n",
       "      <td>[('Ranbir Kapoor', 'PERSON'), ('three', 'CARDI...</td>\n",
       "      <td>Bipasha Basu</td>\n",
       "      <td>Basu</td>\n",
       "      <td>not-muslim</td>\n",
       "      <td>28.0</td>\n",
       "      <td>0</td>\n",
       "    </tr>\n",
       "  </tbody>\n",
       "</table>\n",
       "</div>"
      ],
      "text/plain": [
       "  objecttype  numericpubdate        date  year  completed  \\\n",
       "0     Review        20080810  2008-08-10  2008       True   \n",
       "1     Review        20080810  2008-08-10  2008       True   \n",
       "2     Review        20080810  2008-08-10  2008       True   \n",
       "\n",
       "                                                 ner                persons  \\\n",
       "0  [('Ranbir Kapoor', 'PERSON'), ('three', 'CARDI...          Ranbir Kapoor   \n",
       "1  [('Ranbir Kapoor', 'PERSON'), ('three', 'CARDI...  Sanjay Leela Bhansali   \n",
       "2  [('Ranbir Kapoor', 'PERSON'), ('three', 'CARDI...           Bipasha Basu   \n",
       "\n",
       "       last pred_religion  pred_prob_muslim  pred_muslim  \n",
       "0    Kapoor    not-muslim              37.0            0  \n",
       "1  Bhansali    not-muslim              27.0            0  \n",
       "2      Basu    not-muslim              28.0            0  "
      ]
     },
     "execution_count": 6,
     "metadata": {},
     "output_type": "execute_result"
    }
   ],
   "source": [
    "# Get religion\n",
    "df = (df\n",
    "      .merge(pranaam.pred_rel(df.drop_duplicates('persons').persons.tolist()), \n",
    "             how='left', left_on='persons', right_on='name', validate='m:1')\n",
    "      .rename_column('pred_label', 'pred_religion')\n",
    "      .assign(pred_muslim=lambda df: np.where(df.pred_religion==\"muslim\", 1, 0))\n",
    "      .remove_columns('name')\n",
    "     )\n",
    "df.head(3)"
   ]
  },
  {
   "cell_type": "code",
   "execution_count": 7,
   "id": "60fb9d8e",
   "metadata": {
    "ExecuteTime": {
     "end_time": "2022-07-24T02:47:02.146591Z",
     "start_time": "2022-07-24T02:46:57.514546Z"
    }
   },
   "outputs": [
    {
     "data": {
      "text/html": [
       "<div>\n",
       "<style scoped>\n",
       "    .dataframe tbody tr th:only-of-type {\n",
       "        vertical-align: middle;\n",
       "    }\n",
       "\n",
       "    .dataframe tbody tr th {\n",
       "        vertical-align: top;\n",
       "    }\n",
       "\n",
       "    .dataframe thead th {\n",
       "        text-align: right;\n",
       "    }\n",
       "</style>\n",
       "<table border=\"1\" class=\"dataframe\">\n",
       "  <thead>\n",
       "    <tr style=\"text-align: right;\">\n",
       "      <th></th>\n",
       "      <th>objecttype</th>\n",
       "      <th>numericpubdate</th>\n",
       "      <th>date</th>\n",
       "      <th>year</th>\n",
       "      <th>completed</th>\n",
       "      <th>ner</th>\n",
       "      <th>persons</th>\n",
       "      <th>last</th>\n",
       "      <th>pred_religion</th>\n",
       "      <th>pred_prob_muslim</th>\n",
       "      <th>pred_muslim</th>\n",
       "      <th>n_sc</th>\n",
       "      <th>n_st</th>\n",
       "      <th>n_other</th>\n",
       "      <th>prop_sc</th>\n",
       "      <th>prop_st</th>\n",
       "      <th>prop_other</th>\n",
       "      <th>pred_caste</th>\n",
       "    </tr>\n",
       "  </thead>\n",
       "  <tbody>\n",
       "    <tr>\n",
       "      <th>0</th>\n",
       "      <td>Review</td>\n",
       "      <td>20080810</td>\n",
       "      <td>2008-08-10</td>\n",
       "      <td>2008</td>\n",
       "      <td>True</td>\n",
       "      <td>[('Ranbir Kapoor', 'PERSON'), ('three', 'CARDI...</td>\n",
       "      <td>Ranbir Kapoor</td>\n",
       "      <td>Kapoor</td>\n",
       "      <td>not-muslim</td>\n",
       "      <td>37.0</td>\n",
       "      <td>0</td>\n",
       "      <td>387.0</td>\n",
       "      <td>33.0</td>\n",
       "      <td>1384.0</td>\n",
       "      <td>0.214523</td>\n",
       "      <td>0.018293</td>\n",
       "      <td>0.767184</td>\n",
       "      <td>prop_other</td>\n",
       "    </tr>\n",
       "    <tr>\n",
       "      <th>1</th>\n",
       "      <td>Review</td>\n",
       "      <td>20080810</td>\n",
       "      <td>2008-08-10</td>\n",
       "      <td>2008</td>\n",
       "      <td>True</td>\n",
       "      <td>[('Ranbir Kapoor', 'PERSON'), ('three', 'CARDI...</td>\n",
       "      <td>Sanjay Leela Bhansali</td>\n",
       "      <td>Bhansali</td>\n",
       "      <td>not-muslim</td>\n",
       "      <td>27.0</td>\n",
       "      <td>0</td>\n",
       "      <td>NaN</td>\n",
       "      <td>NaN</td>\n",
       "      <td>NaN</td>\n",
       "      <td>NaN</td>\n",
       "      <td>NaN</td>\n",
       "      <td>NaN</td>\n",
       "      <td>NaN</td>\n",
       "    </tr>\n",
       "    <tr>\n",
       "      <th>2</th>\n",
       "      <td>Review</td>\n",
       "      <td>20080810</td>\n",
       "      <td>2008-08-10</td>\n",
       "      <td>2008</td>\n",
       "      <td>True</td>\n",
       "      <td>[('Ranbir Kapoor', 'PERSON'), ('three', 'CARDI...</td>\n",
       "      <td>Bipasha Basu</td>\n",
       "      <td>Basu</td>\n",
       "      <td>not-muslim</td>\n",
       "      <td>28.0</td>\n",
       "      <td>0</td>\n",
       "      <td>2304.0</td>\n",
       "      <td>226.0</td>\n",
       "      <td>7973.0</td>\n",
       "      <td>0.219366</td>\n",
       "      <td>0.021518</td>\n",
       "      <td>0.759116</td>\n",
       "      <td>prop_other</td>\n",
       "    </tr>\n",
       "  </tbody>\n",
       "</table>\n",
       "</div>"
      ],
      "text/plain": [
       "  objecttype  numericpubdate        date  year  completed  \\\n",
       "0     Review        20080810  2008-08-10  2008       True   \n",
       "1     Review        20080810  2008-08-10  2008       True   \n",
       "2     Review        20080810  2008-08-10  2008       True   \n",
       "\n",
       "                                                 ner                persons  \\\n",
       "0  [('Ranbir Kapoor', 'PERSON'), ('three', 'CARDI...          Ranbir Kapoor   \n",
       "1  [('Ranbir Kapoor', 'PERSON'), ('three', 'CARDI...  Sanjay Leela Bhansali   \n",
       "2  [('Ranbir Kapoor', 'PERSON'), ('three', 'CARDI...           Bipasha Basu   \n",
       "\n",
       "       last pred_religion  pred_prob_muslim  pred_muslim    n_sc   n_st  \\\n",
       "0    Kapoor    not-muslim              37.0            0   387.0   33.0   \n",
       "1  Bhansali    not-muslim              27.0            0     NaN    NaN   \n",
       "2      Basu    not-muslim              28.0            0  2304.0  226.0   \n",
       "\n",
       "   n_other   prop_sc   prop_st  prop_other  pred_caste  \n",
       "0   1384.0  0.214523  0.018293    0.767184  prop_other  \n",
       "1      NaN       NaN       NaN         NaN         NaN  \n",
       "2   7973.0  0.219366  0.021518    0.759116  prop_other  "
      ]
     },
     "execution_count": 7,
     "metadata": {},
     "output_type": "execute_result"
    }
   ],
   "source": [
    "# Get caste\n",
    "df = (df.merge((secc_caste(df.drop_duplicates('last'), 'last')\n",
    "                .filter(['last', 'n_sc', 'n_st', 'n_other', 'prop_sc', 'prop_st','prop_other'])\n",
    "               ), \n",
    "               how='left', on='last', validate='m:1')\n",
    "      .assign(pred_caste=lambda df: df[['prop_sc', 'prop_st', 'prop_other']].idxmax(axis=1))\n",
    "     )\n",
    "df.head(3)"
   ]
  },
  {
   "cell_type": "code",
   "execution_count": 8,
   "id": "5dc1a37d",
   "metadata": {
    "ExecuteTime": {
     "end_time": "2022-07-24T02:47:26.932186Z",
     "start_time": "2022-07-24T02:47:02.147592Z"
    }
   },
   "outputs": [
    {
     "data": {
      "text/html": [
       "<div>\n",
       "<style scoped>\n",
       "    .dataframe tbody tr th:only-of-type {\n",
       "        vertical-align: middle;\n",
       "    }\n",
       "\n",
       "    .dataframe tbody tr th {\n",
       "        vertical-align: top;\n",
       "    }\n",
       "\n",
       "    .dataframe thead th {\n",
       "        text-align: right;\n",
       "    }\n",
       "</style>\n",
       "<table border=\"1\" class=\"dataframe\">\n",
       "  <thead>\n",
       "    <tr style=\"text-align: right;\">\n",
       "      <th></th>\n",
       "      <th>objecttype</th>\n",
       "      <th>numericpubdate</th>\n",
       "      <th>date</th>\n",
       "      <th>year</th>\n",
       "      <th>completed</th>\n",
       "      <th>ner</th>\n",
       "      <th>persons</th>\n",
       "      <th>last</th>\n",
       "      <th>pred_religion</th>\n",
       "      <th>pred_prob_muslim</th>\n",
       "      <th>...</th>\n",
       "      <th>n_sc</th>\n",
       "      <th>n_st</th>\n",
       "      <th>n_other</th>\n",
       "      <th>prop_sc</th>\n",
       "      <th>prop_st</th>\n",
       "      <th>prop_other</th>\n",
       "      <th>pred_caste</th>\n",
       "      <th>name</th>\n",
       "      <th>pred_gender</th>\n",
       "      <th>pred_prob</th>\n",
       "    </tr>\n",
       "  </thead>\n",
       "  <tbody>\n",
       "    <tr>\n",
       "      <th>0</th>\n",
       "      <td>Review</td>\n",
       "      <td>20080810</td>\n",
       "      <td>2008-08-10</td>\n",
       "      <td>2008</td>\n",
       "      <td>True</td>\n",
       "      <td>[('Ranbir Kapoor', 'PERSON'), ('three', 'CARDI...</td>\n",
       "      <td>Ranbir Kapoor</td>\n",
       "      <td>Kapoor</td>\n",
       "      <td>not-muslim</td>\n",
       "      <td>37.0</td>\n",
       "      <td>...</td>\n",
       "      <td>387.0</td>\n",
       "      <td>33.0</td>\n",
       "      <td>1384.0</td>\n",
       "      <td>0.214523</td>\n",
       "      <td>0.018293</td>\n",
       "      <td>0.767184</td>\n",
       "      <td>prop_other</td>\n",
       "      <td>NaN</td>\n",
       "      <td>NaN</td>\n",
       "      <td>NaN</td>\n",
       "    </tr>\n",
       "    <tr>\n",
       "      <th>1</th>\n",
       "      <td>Review</td>\n",
       "      <td>20080810</td>\n",
       "      <td>2008-08-10</td>\n",
       "      <td>2008</td>\n",
       "      <td>True</td>\n",
       "      <td>[('Ranbir Kapoor', 'PERSON'), ('three', 'CARDI...</td>\n",
       "      <td>Sanjay Leela Bhansali</td>\n",
       "      <td>Bhansali</td>\n",
       "      <td>not-muslim</td>\n",
       "      <td>27.0</td>\n",
       "      <td>...</td>\n",
       "      <td>NaN</td>\n",
       "      <td>NaN</td>\n",
       "      <td>NaN</td>\n",
       "      <td>NaN</td>\n",
       "      <td>NaN</td>\n",
       "      <td>NaN</td>\n",
       "      <td>NaN</td>\n",
       "      <td>NaN</td>\n",
       "      <td>NaN</td>\n",
       "      <td>NaN</td>\n",
       "    </tr>\n",
       "    <tr>\n",
       "      <th>2</th>\n",
       "      <td>Review</td>\n",
       "      <td>20080810</td>\n",
       "      <td>2008-08-10</td>\n",
       "      <td>2008</td>\n",
       "      <td>True</td>\n",
       "      <td>[('Ranbir Kapoor', 'PERSON'), ('three', 'CARDI...</td>\n",
       "      <td>Bipasha Basu</td>\n",
       "      <td>Basu</td>\n",
       "      <td>not-muslim</td>\n",
       "      <td>28.0</td>\n",
       "      <td>...</td>\n",
       "      <td>2304.0</td>\n",
       "      <td>226.0</td>\n",
       "      <td>7973.0</td>\n",
       "      <td>0.219366</td>\n",
       "      <td>0.021518</td>\n",
       "      <td>0.759116</td>\n",
       "      <td>prop_other</td>\n",
       "      <td>NaN</td>\n",
       "      <td>NaN</td>\n",
       "      <td>NaN</td>\n",
       "    </tr>\n",
       "  </tbody>\n",
       "</table>\n",
       "<p>3 rows × 21 columns</p>\n",
       "</div>"
      ],
      "text/plain": [
       "  objecttype  numericpubdate        date  year  completed  \\\n",
       "0     Review        20080810  2008-08-10  2008       True   \n",
       "1     Review        20080810  2008-08-10  2008       True   \n",
       "2     Review        20080810  2008-08-10  2008       True   \n",
       "\n",
       "                                                 ner                persons  \\\n",
       "0  [('Ranbir Kapoor', 'PERSON'), ('three', 'CARDI...          Ranbir Kapoor   \n",
       "1  [('Ranbir Kapoor', 'PERSON'), ('three', 'CARDI...  Sanjay Leela Bhansali   \n",
       "2  [('Ranbir Kapoor', 'PERSON'), ('three', 'CARDI...           Bipasha Basu   \n",
       "\n",
       "       last pred_religion  pred_prob_muslim  ...    n_sc   n_st  n_other  \\\n",
       "0    Kapoor    not-muslim              37.0  ...   387.0   33.0   1384.0   \n",
       "1  Bhansali    not-muslim              27.0  ...     NaN    NaN      NaN   \n",
       "2      Basu    not-muslim              28.0  ...  2304.0  226.0   7973.0   \n",
       "\n",
       "    prop_sc   prop_st  prop_other  pred_caste name pred_gender pred_prob  \n",
       "0  0.214523  0.018293    0.767184  prop_other  NaN         NaN       NaN  \n",
       "1       NaN       NaN         NaN         NaN  NaN         NaN       NaN  \n",
       "2  0.219366  0.021518    0.759116  prop_other  NaN         NaN       NaN  \n",
       "\n",
       "[3 rows x 21 columns]"
      ]
     },
     "execution_count": 8,
     "metadata": {},
     "output_type": "execute_result"
    }
   ],
   "source": [
    "personslist = df['persons'].dropna().tolist()\n",
    "df = (df.merge((predict_fn_gender(personslist)\n",
    "                .drop_duplicates(subset='name')\n",
    "                .dropna(subset='pred_gender')\n",
    "               ), \n",
    "               left_on='persons', right_on='name', how='left', validate='m:1')\n",
    "     )\n",
    "df.head(3)"
   ]
  },
  {
   "cell_type": "markdown",
   "id": "0e2e44a0",
   "metadata": {},
   "source": [
    "### Viz"
   ]
  },
  {
   "cell_type": "code",
   "execution_count": 9,
   "id": "dd982a00",
   "metadata": {
    "ExecuteTime": {
     "end_time": "2022-07-24T02:47:26.948189Z",
     "start_time": "2022-07-24T02:47:26.933185Z"
    }
   },
   "outputs": [],
   "source": [
    "def change_barwidth(ax, new_value):\n",
    "    # https://stackoverflow.com/questions/34888058/changing-width-of-bars-in-bar-chart-created-using-seaborn-factorplot\n",
    "    for patch in ax.patches :\n",
    "        current_width = patch.get_width()\n",
    "        diff = current_width - new_value\n",
    "\n",
    "        # we change the bar width\n",
    "        patch.set_width(new_value)\n",
    "\n",
    "        # we recenter the bar\n",
    "        patch.set_x(patch.get_x() + diff * .5)"
   ]
  },
  {
   "cell_type": "code",
   "execution_count": 10,
   "id": "19182db5",
   "metadata": {
    "ExecuteTime": {
     "end_time": "2022-07-24T02:47:26.995200Z",
     "start_time": "2022-07-24T02:47:26.952190Z"
    }
   },
   "outputs": [],
   "source": [
    "import matplotlib.pyplot as plt\n",
    "import matplotlib.ticker as ticker\n",
    "import seaborn as sns\n",
    "sns.set_theme(context=\"notebook\", font_scale=1.05, \n",
    "              style='whitegrid')  #  Darkgrid Whitegrid Dark White Ticks"
   ]
  },
  {
   "cell_type": "markdown",
   "id": "d9f766a8",
   "metadata": {},
   "source": [
    "#### Religion"
   ]
  },
  {
   "cell_type": "code",
   "execution_count": 11,
   "id": "58525116",
   "metadata": {
    "ExecuteTime": {
     "end_time": "2022-07-24T02:47:27.346279Z",
     "start_time": "2022-07-24T02:47:26.996200Z"
    }
   },
   "outputs": [
    {
     "data": {
      "text/plain": [
       "Text(0.5, 1.0, 'Religion representation')"
      ]
     },
     "execution_count": 11,
     "metadata": {},
     "output_type": "execute_result"
    },
    {
     "data": {
      "image/png": "[encoded data removed]",
      "text/plain": [
       "<Figure size 432x288 with 1 Axes>"
      ]
     },
     "metadata": {},
     "output_type": "display_data"
    }
   ],
   "source": [
    "_, ax = plt.subplots()\n",
    "\n",
    "sns.histplot(x='pred_religion', data=df, stat='percent', ax=ax)\n",
    "ax.set_xticklabels(['Non-Muslim', 'Muslim'])\n",
    "ax.yaxis.set_major_formatter(ticker.PercentFormatter())\n",
    "plt.ylabel(''), plt.xlabel('')\n",
    "change_barwidth(ax, .5)\n",
    "\n",
    "perc_muslim = 100*(1-df.pred_muslim.mean())\n",
    "perc_nonmuslim = 100*df.pred_muslim.mean()\n",
    "ax.text(x=0, y=perc_muslim, s=f'{perc_muslim:.1f}%', ha=\"center\")    \n",
    "ax.text(x=1, y=perc_nonmuslim, s=f'{perc_nonmuslim:.1f}%', ha=\"center\")   \n",
    "plt.title('Religion representation', fontweight='bold', size=15)"
   ]
  },
  {
   "cell_type": "markdown",
   "id": "a50d0098",
   "metadata": {},
   "source": [
    "#### Castes"
   ]
  },
  {
   "cell_type": "code",
   "execution_count": 12,
   "id": "c7fcc9f3",
   "metadata": {
    "ExecuteTime": {
     "end_time": "2022-07-24T02:47:28.079444Z",
     "start_time": "2022-07-24T02:47:27.347279Z"
    }
   },
   "outputs": [
    {
     "data": {
      "text/plain": [
       "Text(0.5, 1.0, 'Caste representation')"
      ]
     },
     "execution_count": 12,
     "metadata": {},
     "output_type": "execute_result"
    },
    {
     "data": {
      "image/png": "[encoded data removed]",
      "text/plain": [
       "<Figure size 432x288 with 1 Axes>"
      ]
     },
     "metadata": {},
     "output_type": "display_data"
    }
   ],
   "source": [
    "_, ax = plt.subplots()\n",
    "\n",
    "sns.histplot(x='pred_caste', data=df, stat='percent', ax=ax)\n",
    "ax.set_xticklabels(['Other', 'Scheduled\\nCastes', 'Scheduled\\nTribes'])\n",
    "ax.yaxis.set_major_formatter(ticker.PercentFormatter())\n",
    "plt.ylabel(''), plt.xlabel('')\n",
    "change_barwidth(ax, .6)\n",
    "\n",
    "perc_other = 100*(len(df.query('pred_caste==\"prop_other\"'))/len(df.dropna(subset='pred_caste')))\n",
    "perc_sc = 100*(len(df.query('pred_caste==\"prop_sc\"'))/len(df.dropna(subset='pred_caste')))\n",
    "perc_st = 100*(len(df.query('pred_caste==\"prop_st\"'))/len(df.dropna(subset='pred_caste')))\n",
    "ax.text(x=0, y=perc_other, s=f'{perc_other:.1f}%', ha=\"center\")    \n",
    "ax.text(x=1, y=perc_sc, s=f'{perc_sc:.1f}%', ha=\"center\")  \n",
    "ax.text(x=2, y=perc_st+3, s=f'{perc_st:.1f}%', ha=\"center\")  \n",
    "plt.title('Caste representation', fontweight='bold', size=15)"
   ]
  },
  {
   "cell_type": "markdown",
   "id": "233619f9",
   "metadata": {},
   "source": [
    "#### Gender"
   ]
  },
  {
   "cell_type": "code",
   "execution_count": 13,
   "id": "875511f4",
   "metadata": {
    "ExecuteTime": {
     "end_time": "2022-07-24T02:47:28.363509Z",
     "start_time": "2022-07-24T02:47:28.080444Z"
    },
    "scrolled": true
   },
   "outputs": [
    {
     "data": {
      "text/plain": [
       "Text(0.5, 1.0, 'Gender representation')"
      ]
     },
     "execution_count": 13,
     "metadata": {},
     "output_type": "execute_result"
    },
    {
     "data": {
      "image/png": "[encoded data removed]",
      "text/plain": [
       "<Figure size 432x288 with 1 Axes>"
      ]
     },
     "metadata": {},
     "output_type": "display_data"
    }
   ],
   "source": [
    "_, ax = plt.subplots()\n",
    "\n",
    "sns.histplot(x='pred_gender', data=df, stat='percent', ax=ax)\n",
    "ax.set_xticklabels(['Male', 'Female'])\n",
    "ax.yaxis.set_major_formatter(ticker.PercentFormatter())\n",
    "plt.ylabel(''), plt.xlabel('')\n",
    "ax.set_yticks([0, 20, 40, 60])\n",
    "change_barwidth(ax, .5)\n",
    "\n",
    "_df = df.dropna(subset='pred_gender')\n",
    "perc_female = 100*(len(_df.query('pred_gender==\"female\"'))/len(_df))\n",
    "perc_male = 100*(len(_df.query('pred_gender==\"male\"'))/len(_df))\n",
    "ax.text(x=0, y=perc_male, s=f'{perc_male:.1f}%', ha=\"center\")    \n",
    "ax.text(x=1, y=perc_female, s=f'{perc_female:.1f}%', ha=\"center\")   \n",
    "plt.title('Gender representation', fontweight='bold', size=15)"
   ]
  },
  {
   "cell_type": "markdown",
   "id": "218cd167",
   "metadata": {},
   "source": [
    "#### Top people mentions"
   ]
  },
  {
   "cell_type": "code",
   "execution_count": 14,
   "id": "a9f9d760",
   "metadata": {
    "ExecuteTime": {
     "end_time": "2022-07-24T02:47:28.712587Z",
     "start_time": "2022-07-24T02:47:28.364508Z"
    },
    "scrolled": true
   },
   "outputs": [
    {
     "data": {
      "text/html": [
       "<div>\n",
       "<style scoped>\n",
       "    .dataframe tbody tr th:only-of-type {\n",
       "        vertical-align: middle;\n",
       "    }\n",
       "\n",
       "    .dataframe tbody tr th {\n",
       "        vertical-align: top;\n",
       "    }\n",
       "\n",
       "    .dataframe thead th {\n",
       "        text-align: right;\n",
       "    }\n",
       "</style>\n",
       "<table border=\"1\" class=\"dataframe\">\n",
       "  <thead>\n",
       "    <tr style=\"text-align: right;\">\n",
       "      <th></th>\n",
       "      <th>persons</th>\n",
       "      <th>cites</th>\n",
       "    </tr>\n",
       "  </thead>\n",
       "  <tbody>\n",
       "    <tr>\n",
       "      <th>0</th>\n",
       "      <td>Patil</td>\n",
       "      <td>1851</td>\n",
       "    </tr>\n",
       "    <tr>\n",
       "      <th>1</th>\n",
       "      <td>Goa</td>\n",
       "      <td>1539</td>\n",
       "    </tr>\n",
       "    <tr>\n",
       "      <th>2</th>\n",
       "      <td>Bush</td>\n",
       "      <td>1371</td>\n",
       "    </tr>\n",
       "  </tbody>\n",
       "</table>\n",
       "</div>"
      ],
      "text/plain": [
       "  persons  cites\n",
       "0   Patil   1851\n",
       "1     Goa   1539\n",
       "2    Bush   1371"
      ]
     },
     "execution_count": 14,
     "metadata": {},
     "output_type": "execute_result"
    }
   ],
   "source": [
    "df_people = (df.groupby('persons').size().reset_index()\n",
    "             .rename_column(0, 'cites')\n",
    "             .sort_values('cites', ascending=False)\n",
    "             .reset_index(drop=True)\n",
    "            )\n",
    "df_people.head(3)"
   ]
  },
  {
   "cell_type": "code",
   "execution_count": 15,
   "id": "68a642de",
   "metadata": {
    "ExecuteTime": {
     "end_time": "2022-07-24T02:47:28.728591Z",
     "start_time": "2022-07-24T02:47:28.713587Z"
    }
   },
   "outputs": [],
   "source": [
    "def draw_alt_row_colors(ax, rowspan=5, color='0.5', alpha=0.1):\n",
    "    yticks = ax.get_yticks()\n",
    "    counter = 1\n",
    "    for ix, _ in enumerate(yticks):\n",
    "        if ix%rowspan==0:\n",
    "            if counter%2==0:\n",
    "                ax.axhspan(ix-.5, ix+rowspan-.5, color=color, alpha=alpha, zorder=0)\n",
    "            counter += 1\n",
    "    return ax"
   ]
  },
  {
   "cell_type": "code",
   "execution_count": 16,
   "id": "979ec8a5",
   "metadata": {
    "ExecuteTime": {
     "end_time": "2022-07-24T02:47:29.461757Z",
     "start_time": "2022-07-24T02:47:28.729592Z"
    }
   },
   "outputs": [
    {
     "data": {
      "text/plain": [
       "Text(0, 0.5, '')"
      ]
     },
     "execution_count": 16,
     "metadata": {},
     "output_type": "execute_result"
    },
    {
     "data": {
      "image/png": "[encoded data removed]",
      "text/plain": [
       "<Figure size 648x648 with 1 Axes>"
      ]
     },
     "metadata": {},
     "output_type": "display_data"
    }
   ],
   "source": [
    "_, ax = plt.subplots(figsize=(9,9))\n",
    "sns.stripplot(x='cites', y='persons', data=df_people.head(50), \n",
    "              orient='h', color='darkslategray', ax=ax)\n",
    "draw_alt_row_colors(ax)\n",
    "ax.set_ylim(50-.5, -.5)\n",
    "sns.despine(left=True)\n",
    "plt.xticks(range(500,2500,500))\n",
    "plt.xlabel('Mentions', fontweight='bold')\n",
    "plt.ylabel('')"
   ]
  },
  {
   "cell_type": "markdown",
   "id": "6b80749a",
   "metadata": {},
   "source": [
    "#### Countries"
   ]
  },
  {
   "cell_type": "code",
   "execution_count": 17,
   "id": "063db824",
   "metadata": {
    "ExecuteTime": {
     "end_time": "2022-07-24T03:00:57.233500Z",
     "start_time": "2022-07-24T02:47:29.462758Z"
    }
   },
   "outputs": [
    {
     "data": {
      "application/vnd.jupyter.widget-view+json": {
       "model_id": "fdea4ffe8baa41829a20a0594b23414f",
       "version_major": 2,
       "version_minor": 0
      },
      "text/plain": [
       "0it [00:00, ?it/s]"
      ]
     },
     "metadata": {},
     "output_type": "display_data"
    }
   ],
   "source": [
    "df['places'] = ''\n",
    "\n",
    "# get person only\n",
    "for ix, row in tqdm(df.iterrows()):\n",
    "    places = row['places']\n",
    "    if places!='':\n",
    "        continue\n",
    "    else:\n",
    "        places = []\n",
    "        \n",
    "    ners = row['ner']\n",
    "    ners = ast.literal_eval(ners)\n",
    "    for ner in ners:\n",
    "        entity, entitytype = ner\n",
    "        if entitytype.lower()==\"gpe\":    \n",
    "            places.append(entity)\n",
    "    \n",
    "    df.at[ix, 'places'] = places\n",
    "#     print(persons)"
   ]
  },
  {
   "cell_type": "code",
   "execution_count": 18,
   "id": "9185cfcf",
   "metadata": {
    "ExecuteTime": {
     "end_time": "2022-07-24T03:01:01.672501Z",
     "start_time": "2022-07-24T03:00:57.234501Z"
    },
    "scrolled": true
   },
   "outputs": [
    {
     "data": {
      "text/html": [
       "<div>\n",
       "<style scoped>\n",
       "    .dataframe tbody tr th:only-of-type {\n",
       "        vertical-align: middle;\n",
       "    }\n",
       "\n",
       "    .dataframe tbody tr th {\n",
       "        vertical-align: top;\n",
       "    }\n",
       "\n",
       "    .dataframe thead th {\n",
       "        text-align: right;\n",
       "    }\n",
       "</style>\n",
       "<table border=\"1\" class=\"dataframe\">\n",
       "  <thead>\n",
       "    <tr style=\"text-align: right;\">\n",
       "      <th></th>\n",
       "      <th>places</th>\n",
       "      <th>cites</th>\n",
       "    </tr>\n",
       "  </thead>\n",
       "  <tbody>\n",
       "    <tr>\n",
       "      <th>8114</th>\n",
       "      <td>India</td>\n",
       "      <td>544506</td>\n",
       "    </tr>\n",
       "    <tr>\n",
       "      <th>13175</th>\n",
       "      <td>Mumbai</td>\n",
       "      <td>343722</td>\n",
       "    </tr>\n",
       "    <tr>\n",
       "      <th>11418</th>\n",
       "      <td>MD</td>\n",
       "      <td>132450</td>\n",
       "    </tr>\n",
       "    <tr>\n",
       "      <th>21146</th>\n",
       "      <td>US</td>\n",
       "      <td>129038</td>\n",
       "    </tr>\n",
       "    <tr>\n",
       "      <th>15225</th>\n",
       "      <td>Pakistan</td>\n",
       "      <td>89044</td>\n",
       "    </tr>\n",
       "    <tr>\n",
       "      <th>...</th>\n",
       "      <td>...</td>\n",
       "      <td>...</td>\n",
       "    </tr>\n",
       "    <tr>\n",
       "      <th>8788</th>\n",
       "      <td>Jeddah Saudi Arabia's</td>\n",
       "      <td>1</td>\n",
       "    </tr>\n",
       "    <tr>\n",
       "      <th>8786</th>\n",
       "      <td>Jeanhis Biguine</td>\n",
       "      <td>1</td>\n",
       "    </tr>\n",
       "    <tr>\n",
       "      <th>21110</th>\n",
       "      <td>Twothirds</td>\n",
       "      <td>1</td>\n",
       "    </tr>\n",
       "    <tr>\n",
       "      <th>8770</th>\n",
       "      <td>Jayantha Dhanapala</td>\n",
       "      <td>1</td>\n",
       "    </tr>\n",
       "    <tr>\n",
       "      <th>15191</th>\n",
       "      <td>Padriwadi</td>\n",
       "      <td>1</td>\n",
       "    </tr>\n",
       "  </tbody>\n",
       "</table>\n",
       "<p>24097 rows × 2 columns</p>\n",
       "</div>"
      ],
      "text/plain": [
       "                      places   cites\n",
       "8114                   India  544506\n",
       "13175                 Mumbai  343722\n",
       "11418                     MD  132450\n",
       "21146                     US  129038\n",
       "15225               Pakistan   89044\n",
       "...                      ...     ...\n",
       "8788   Jeddah Saudi Arabia's       1\n",
       "8786         Jeanhis Biguine       1\n",
       "21110              Twothirds       1\n",
       "8770      Jayantha Dhanapala       1\n",
       "15191              Padriwadi       1\n",
       "\n",
       "[24097 rows x 2 columns]"
      ]
     },
     "execution_count": 18,
     "metadata": {},
     "output_type": "execute_result"
    }
   ],
   "source": [
    "df_places = (df.explode(column='places')\n",
    "             .dropna(subset='places')\n",
    "             .groupby('places').size().reset_index()\n",
    "             .rename_column(0, 'cites')\n",
    "             .sort_values('cites', ascending=False)\n",
    "            )\n",
    "df_places"
   ]
  },
  {
   "cell_type": "code",
   "execution_count": 19,
   "id": "d9ef3bc4",
   "metadata": {
    "ExecuteTime": {
     "end_time": "2022-07-24T03:01:02.390664Z",
     "start_time": "2022-07-24T03:01:01.673502Z"
    }
   },
   "outputs": [
    {
     "data": {
      "text/plain": [
       "Text(0, 0.5, '')"
      ]
     },
     "execution_count": 19,
     "metadata": {},
     "output_type": "execute_result"
    },
    {
     "data": {
      "image/png": "[encoded data removed]",
      "text/plain": [
       "<Figure size 648x648 with 1 Axes>"
      ]
     },
     "metadata": {},
     "output_type": "display_data"
    }
   ],
   "source": [
    "_, ax = plt.subplots(figsize=(9,9))\n",
    "sns.stripplot(x='cites', y='places', data=df_places.head(50), \n",
    "              orient='h', color='darkslategray', ax=ax)\n",
    "draw_alt_row_colors(ax)\n",
    "ax.set_ylim(50-.5, -.5)\n",
    "sns.despine(left=True)\n",
    "plt.xticks(range(0,800_000,200_000))\n",
    "plt.xlabel('Mentions', fontweight='bold')\n",
    "plt.ylabel('')"
   ]
  }
 ],
 "metadata": {
  "kernelspec": {
   "display_name": "Python 3",
   "language": "python",
   "name": "python3"
  },
  "language_info": {
   "codemirror_mode": {
    "name": "ipython",
    "version": 3
   },
   "file_extension": ".py",
   "mimetype": "text/x-python",
   "name": "python",
   "nbconvert_exporter": "python",
   "pygments_lexer": "ipython3",
   "version": "3.9.12"
  },
  "toc": {
   "base_numbering": 1,
   "nav_menu": {},
   "number_sections": true,
   "sideBar": true,
   "skip_h1_title": false,
   "title_cell": "Table of Contents",
   "title_sidebar": "Contents",
   "toc_cell": false,
   "toc_position": {
    "height": "calc(100% - 180px)",
    "left": "10px",
    "top": "150px",
    "width": "165px"
   },
   "toc_section_display": true,
   "toc_window_display": true
  },
  "varInspector": {
   "cols": {
    "lenName": 16,
    "lenType": 16,
    "lenVar": 40
   },
   "kernels_config": {
    "python": {
     "delete_cmd_postfix": "",
     "delete_cmd_prefix": "del ",
     "library": "var_list.py",
     "varRefreshCmd": "print(var_dic_list())"
    },
    "r": {
     "delete_cmd_postfix": ") ",
     "delete_cmd_prefix": "rm(",
     "library": "var_list.r",
     "varRefreshCmd": "cat(var_dic_list()) "
    }
   },
   "types_to_exclude": [
    "module",
    "function",
    "builtin_function_or_method",
    "instance",
    "_Feature"
   ],
   "window_display": false
  }
 },
 "nbformat": 4,
 "nbformat_minor": 5
}
