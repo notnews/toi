{
 "cells": [
  {
   "cell_type": "code",
   "execution_count": 44,
   "id": "4fe56fc1",
   "metadata": {
    "ExecuteTime": {
     "end_time": "2022-06-19T09:26:32.118536Z",
     "start_time": "2022-06-19T09:26:32.114536Z"
    }
   },
   "outputs": [],
   "source": [
    "import pandas as pd\n",
    "import janitor\n",
    "\n",
    "from data_utils import (\n",
    "    fix_separated_words,\n",
    "    clean_transcripts,\n",
    "    flesch, fog, smog, # readability\n",
    "    terms, uniqueterms, # word counters\n",
    "    ttr, mtld, hdd # lexical richness\n",
    ")\n",
    "\n",
    "FP_TOI_LF = '../../readable_news_lf/toi_parsed_all.csv.gz'"
   ]
  },
  {
   "cell_type": "code",
   "execution_count": null,
   "id": "3961bff0",
   "metadata": {
    "ExecuteTime": {
     "end_time": "2022-06-19T09:27:25.735988Z",
     "start_time": "2022-06-19T09:26:32.554230Z"
    }
   },
   "outputs": [],
   "source": [
    "df = (pd.read_csv(FP_TOI_LF, compression='gzip')\n",
    "      .clean_names()\n",
    "      # Remove ads\n",
    "      .query('~objecttype.str.contains(\"advert\", case=False)')\n",
    "      .dropna(subset='fulltext')\n",
    "      .assign(fulltext=lambda df: df.fulltext.apply(fix_separated_words))\n",
    "      .assign(\n",
    "          fulltext=lambda df: df.fulltext.apply(clean_transcripts),\n",
    "#           # Compute readability\n",
    "#           flesch_reading_ease=lambda df: df.fulltext.apply(flesch),\n",
    "#           fog=lambda df: df.fulltext.apply(fog), \n",
    "#           smog=lambda df: df.fulltext.apply(smog),  \n",
    "          terms=lambda df: df.fulltext.apply(terms),\n",
    "          # Compute lexical richness for text\n",
    "          uniqueterms=lambda df: df.fulltext.apply(uniqueterms), \n",
    "          ttr=lambda df: df.fulltext.apply(ttr),\n",
    "          mtld=lambda df: df.fulltext.apply(mtld),\n",
    "          hdd=lambda df: df.fulltext.apply(hdd),    \n",
    "      )\n",
    "     )\n",
    "df"
   ]
  },
  {
   "cell_type": "code",
   "execution_count": 47,
   "id": "2838f119",
   "metadata": {
    "ExecuteTime": {
     "end_time": "2022-06-19T09:31:26.207179Z",
     "start_time": "2022-06-19T09:31:25.937879Z"
    }
   },
   "outputs": [],
   "source": [
    "(df\n",
    " .to_csv('../data/_toi_textstat.csv.gz', compression=\"gzip\")\n",
    ")"
   ]
  },
  {
   "cell_type": "code",
   "execution_count": null,
   "id": "d78244ba",
   "metadata": {},
   "outputs": [],
   "source": []
  }
 ],
 "metadata": {
  "kernelspec": {
   "display_name": "Python 3",
   "language": "python",
   "name": "python3"
  },
  "language_info": {
   "codemirror_mode": {
    "name": "ipython",
    "version": 3
   },
   "file_extension": ".py",
   "mimetype": "text/x-python",
   "name": "python",
   "nbconvert_exporter": "python",
   "pygments_lexer": "ipython3",
   "version": "3.9.12"
  },
  "toc": {
   "base_numbering": 1,
   "nav_menu": {},
   "number_sections": true,
   "sideBar": true,
   "skip_h1_title": false,
   "title_cell": "Table of Contents",
   "title_sidebar": "Contents",
   "toc_cell": false,
   "toc_position": {},
   "toc_section_display": true,
   "toc_window_display": false
  },
  "varInspector": {
   "cols": {
    "lenName": 16,
    "lenType": 16,
    "lenVar": 40
   },
   "kernels_config": {
    "python": {
     "delete_cmd_postfix": "",
     "delete_cmd_prefix": "del ",
     "library": "var_list.py",
     "varRefreshCmd": "print(var_dic_list())"
    },
    "r": {
     "delete_cmd_postfix": ") ",
     "delete_cmd_prefix": "rm(",
     "library": "var_list.r",
     "varRefreshCmd": "cat(var_dic_list()) "
    }
   },
   "types_to_exclude": [
    "module",
    "function",
    "builtin_function_or_method",
    "instance",
    "_Feature"
   ],
   "window_display": false
  }
 },
 "nbformat": 4,
 "nbformat_minor": 5
}
