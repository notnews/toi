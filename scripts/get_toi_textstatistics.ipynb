{
 "cells": [
  {
   "cell_type": "code",
   "execution_count": 44,
   "id": "4fe56fc1",
   "metadata": {
    "ExecuteTime": {
     "end_time": "2022-06-19T09:26:32.118536Z",
     "start_time": "2022-06-19T09:26:32.114536Z"
    }
   },
   "outputs": [],
   "source": [
    "import pandas as pd\n",
    "import janitor\n",
    "\n",
    "from data_utils import (\n",
    "    fix_separated_words,\n",
    "    clean_transcripts,\n",
    "    flesch, fog, smog, # readability\n",
    "    terms, uniqueterms, # word counters\n",
    "    ttr, mtld, hdd # lexical richness\n",
    ")"
   ]
  },
  {
   "cell_type": "code",
   "execution_count": 45,
   "id": "699953e5",
   "metadata": {
    "ExecuteTime": {
     "end_time": "2022-06-19T09:27:25.735988Z",
     "start_time": "2022-06-19T09:26:32.554230Z"
    }
   },
   "outputs": [
    {
     "data": {
      "text/html": [
       "<div>\n",
       "<style scoped>\n",
       "    .dataframe tbody tr th:only-of-type {\n",
       "        vertical-align: middle;\n",
       "    }\n",
       "\n",
       "    .dataframe tbody tr th {\n",
       "        vertical-align: top;\n",
       "    }\n",
       "\n",
       "    .dataframe thead th {\n",
       "        text-align: right;\n",
       "    }\n",
       "</style>\n",
       "<table border=\"1\" class=\"dataframe\">\n",
       "  <thead>\n",
       "    <tr style=\"text-align: right;\">\n",
       "      <th></th>\n",
       "      <th>sourcetype</th>\n",
       "      <th>publication_publicationid</th>\n",
       "      <th>abstract</th>\n",
       "      <th>contributor_personname</th>\n",
       "      <th>contributor_lastname</th>\n",
       "      <th>urldocview</th>\n",
       "      <th>datetimestamp</th>\n",
       "      <th>publication_qualifier</th>\n",
       "      <th>alphapubdate</th>\n",
       "      <th>actioncode</th>\n",
       "      <th>...</th>\n",
       "      <th>numericpubdate</th>\n",
       "      <th>cleanedfulltext</th>\n",
       "      <th>flesch_reading_ease</th>\n",
       "      <th>fog</th>\n",
       "      <th>smog</th>\n",
       "      <th>terms</th>\n",
       "      <th>uniqueterms</th>\n",
       "      <th>ttr</th>\n",
       "      <th>mtld</th>\n",
       "      <th>hdd</th>\n",
       "    </tr>\n",
       "  </thead>\n",
       "  <tbody>\n",
       "    <tr>\n",
       "      <th>1</th>\n",
       "      <td>Historical Newspapers</td>\n",
       "      <td>54644</td>\n",
       "      <td>NaN</td>\n",
       "      <td>NaN</td>\n",
       "      <td>NaN</td>\n",
       "      <td>http://search.proquest.com/docview/739304513/</td>\n",
       "      <td>20170928174009</td>\n",
       "      <td>New Delhi, India</td>\n",
       "      <td>Jul 24, 1983</td>\n",
       "      <td>change</td>\n",
       "      <td>...</td>\n",
       "      <td>19830724</td>\n",
       "      <td>hearing of staff union suit against bse by sta...</td>\n",
       "      <td>-225.666516</td>\n",
       "      <td>NaN</td>\n",
       "      <td>121.768641</td>\n",
       "      <td>287.0</td>\n",
       "      <td>152</td>\n",
       "      <td>0.529617</td>\n",
       "      <td>59.071014</td>\n",
       "      <td>0.798904</td>\n",
       "    </tr>\n",
       "    <tr>\n",
       "      <th>2</th>\n",
       "      <td>Historical Newspapers</td>\n",
       "      <td>54644</td>\n",
       "      <td>NaN</td>\n",
       "      <td>NaN</td>\n",
       "      <td>NaN</td>\n",
       "      <td>http://search.proquest.com/docview/346635909/</td>\n",
       "      <td>20170928165334</td>\n",
       "      <td>New Delhi, India</td>\n",
       "      <td>Apr 28, 1958</td>\n",
       "      <td>change</td>\n",
       "      <td>...</td>\n",
       "      <td>19580428</td>\n",
       "      <td>bombay city suburbs fisherman kills wife daugh...</td>\n",
       "      <td>-288.851000</td>\n",
       "      <td>NaN</td>\n",
       "      <td>147.314286</td>\n",
       "      <td>350.0</td>\n",
       "      <td>187</td>\n",
       "      <td>0.535817</td>\n",
       "      <td>76.268112</td>\n",
       "      <td>0.827223</td>\n",
       "    </tr>\n",
       "    <tr>\n",
       "      <th>3</th>\n",
       "      <td>Historical Newspapers</td>\n",
       "      <td>54644</td>\n",
       "      <td>Mumbai: The high court passed an order last ye...</td>\n",
       "      <td>NaN</td>\n",
       "      <td>NaN</td>\n",
       "      <td>http://search.proquest.com/docview/1809804914/</td>\n",
       "      <td>20170928180033</td>\n",
       "      <td>New Delhi, India</td>\n",
       "      <td>Jun 24, 2007</td>\n",
       "      <td>change</td>\n",
       "      <td>...</td>\n",
       "      <td>20070624</td>\n",
       "      <td>parents school in faceoff over dyslexic' child...</td>\n",
       "      <td>-171.130610</td>\n",
       "      <td>NaN</td>\n",
       "      <td>103.684553</td>\n",
       "      <td>492.0</td>\n",
       "      <td>239</td>\n",
       "      <td>0.481855</td>\n",
       "      <td>106.574187</td>\n",
       "      <td>0.849251</td>\n",
       "    </tr>\n",
       "    <tr>\n",
       "      <th>5</th>\n",
       "      <td>Historical Newspapers</td>\n",
       "      <td>54644</td>\n",
       "      <td>NaN</td>\n",
       "      <td>NaN</td>\n",
       "      <td>NaN</td>\n",
       "      <td>http://search.proquest.com/docview/609122232/</td>\n",
       "      <td>20170928172217</td>\n",
       "      <td>New Delhi, India</td>\n",
       "      <td>Oct 9, 1926</td>\n",
       "      <td>change</td>\n",
       "      <td>...</td>\n",
       "      <td>19261009</td>\n",
       "      <td>absconding driver hindu knocked by car and kil...</td>\n",
       "      <td>-144.088356</td>\n",
       "      <td>NaN</td>\n",
       "      <td>92.714155</td>\n",
       "      <td>219.0</td>\n",
       "      <td>127</td>\n",
       "      <td>0.579909</td>\n",
       "      <td>86.408413</td>\n",
       "      <td>0.827451</td>\n",
       "    </tr>\n",
       "    <tr>\n",
       "      <th>6</th>\n",
       "      <td>Historical Newspapers</td>\n",
       "      <td>54644</td>\n",
       "      <td>Lieutenant D.G. Bryce, Deputy Assistant Commis...</td>\n",
       "      <td>NaN</td>\n",
       "      <td>NaN</td>\n",
       "      <td>http://search.proquest.com/docview/234144570/</td>\n",
       "      <td>20170928163332</td>\n",
       "      <td>New Delhi, India</td>\n",
       "      <td>Jun 30, 1898</td>\n",
       "      <td>change</td>\n",
       "      <td>...</td>\n",
       "      <td>18980630</td>\n",
       "      <td>military intelligence lieutenant . bryce deput...</td>\n",
       "      <td>NaN</td>\n",
       "      <td>NaN</td>\n",
       "      <td>NaN</td>\n",
       "      <td>22.0</td>\n",
       "      <td>22</td>\n",
       "      <td>1.000000</td>\n",
       "      <td>22.000000</td>\n",
       "      <td>NaN</td>\n",
       "    </tr>\n",
       "    <tr>\n",
       "      <th>...</th>\n",
       "      <td>...</td>\n",
       "      <td>...</td>\n",
       "      <td>...</td>\n",
       "      <td>...</td>\n",
       "      <td>...</td>\n",
       "      <td>...</td>\n",
       "      <td>...</td>\n",
       "      <td>...</td>\n",
       "      <td>...</td>\n",
       "      <td>...</td>\n",
       "      <td>...</td>\n",
       "      <td>...</td>\n",
       "      <td>...</td>\n",
       "      <td>...</td>\n",
       "      <td>...</td>\n",
       "      <td>...</td>\n",
       "      <td>...</td>\n",
       "      <td>...</td>\n",
       "      <td>...</td>\n",
       "      <td>...</td>\n",
       "      <td>...</td>\n",
       "    </tr>\n",
       "    <tr>\n",
       "      <th>994</th>\n",
       "      <td>Historical Newspapers</td>\n",
       "      <td>54694</td>\n",
       "      <td>WE subjoin a letter on a subject of late frequ...</td>\n",
       "      <td>NaN</td>\n",
       "      <td>NaN</td>\n",
       "      <td>http://search.proquest.com/docview/233847515/</td>\n",
       "      <td>20170928171835</td>\n",
       "      <td>Bombay, India</td>\n",
       "      <td>Aug 23, 1856</td>\n",
       "      <td>change</td>\n",
       "      <td>...</td>\n",
       "      <td>18560823</td>\n",
       "      <td>wb subjoin a letter on u subjeot of late frequ...</td>\n",
       "      <td>47.027813</td>\n",
       "      <td>NaN</td>\n",
       "      <td>17.533929</td>\n",
       "      <td>384.0</td>\n",
       "      <td>153</td>\n",
       "      <td>0.399478</td>\n",
       "      <td>104.856530</td>\n",
       "      <td>0.830109</td>\n",
       "    </tr>\n",
       "    <tr>\n",
       "      <th>996</th>\n",
       "      <td>Historical Newspapers</td>\n",
       "      <td>54644</td>\n",
       "      <td>NaN</td>\n",
       "      <td>NaN</td>\n",
       "      <td>NaN</td>\n",
       "      <td>http://search.proquest.com/docview/507137117/</td>\n",
       "      <td>20170928170628</td>\n",
       "      <td>New Delhi, India</td>\n",
       "      <td>Nov 8, 1928</td>\n",
       "      <td>change</td>\n",
       "      <td>...</td>\n",
       "      <td>19281108</td>\n",
       "      <td>republican control government of united states...</td>\n",
       "      <td>-161.126743</td>\n",
       "      <td>NaN</td>\n",
       "      <td>95.823853</td>\n",
       "      <td>218.0</td>\n",
       "      <td>119</td>\n",
       "      <td>0.545872</td>\n",
       "      <td>58.532872</td>\n",
       "      <td>0.776315</td>\n",
       "    </tr>\n",
       "    <tr>\n",
       "      <th>997</th>\n",
       "      <td>Historical Newspapers</td>\n",
       "      <td>54644</td>\n",
       "      <td>While the government is engaged in a detailed ...</td>\n",
       "      <td>NaN</td>\n",
       "      <td>NaN</td>\n",
       "      <td>http://search.proquest.com/docview/608355385/</td>\n",
       "      <td>20170928172049</td>\n",
       "      <td>New Delhi, India</td>\n",
       "      <td>Mar 19, 1994</td>\n",
       "      <td>change</td>\n",
       "      <td>...</td>\n",
       "      <td>19940319</td>\n",
       "      <td>pak studying us n proposal by mb naqvi the tim...</td>\n",
       "      <td>-650.195793</td>\n",
       "      <td>NaN</td>\n",
       "      <td>289.708782</td>\n",
       "      <td>706.0</td>\n",
       "      <td>347</td>\n",
       "      <td>0.491501</td>\n",
       "      <td>120.301449</td>\n",
       "      <td>0.853534</td>\n",
       "    </tr>\n",
       "    <tr>\n",
       "      <th>998</th>\n",
       "      <td>Historical Newspapers</td>\n",
       "      <td>54644</td>\n",
       "      <td>The Lord Biahop or Madras who is at present on...</td>\n",
       "      <td>NaN</td>\n",
       "      <td>NaN</td>\n",
       "      <td>http://search.proquest.com/docview/310889027/</td>\n",
       "      <td>20170928163930</td>\n",
       "      <td>New Delhi, India</td>\n",
       "      <td>Mar 15, 1929</td>\n",
       "      <td>change</td>\n",
       "      <td>...</td>\n",
       "      <td>19290315</td>\n",
       "      <td>union of churches in south india address by ma...</td>\n",
       "      <td>-360.414907</td>\n",
       "      <td>NaN</td>\n",
       "      <td>177.274766</td>\n",
       "      <td>428.0</td>\n",
       "      <td>231</td>\n",
       "      <td>0.540984</td>\n",
       "      <td>92.221114</td>\n",
       "      <td>0.828066</td>\n",
       "    </tr>\n",
       "    <tr>\n",
       "      <th>999</th>\n",
       "      <td>Historical Newspapers</td>\n",
       "      <td>54644</td>\n",
       "      <td>The undertone was easy in the Bomby cilsoad ma...</td>\n",
       "      <td>NaN</td>\n",
       "      <td>NaN</td>\n",
       "      <td>http://search.proquest.com/docview/744386286/</td>\n",
       "      <td>20170928173822</td>\n",
       "      <td>New Delhi, India</td>\n",
       "      <td>Nov 21, 1966</td>\n",
       "      <td>change</td>\n",
       "      <td>...</td>\n",
       "      <td>19661121</td>\n",
       "      <td>the market commenced the week on bearish note ...</td>\n",
       "      <td>-100.101818</td>\n",
       "      <td>NaN</td>\n",
       "      <td>73.030303</td>\n",
       "      <td>165.0</td>\n",
       "      <td>109</td>\n",
       "      <td>0.660606</td>\n",
       "      <td>81.256161</td>\n",
       "      <td>0.798415</td>\n",
       "    </tr>\n",
       "  </tbody>\n",
       "</table>\n",
       "<p>727 rows × 38 columns</p>\n",
       "</div>"
      ],
      "text/plain": [
       "                sourcetype  publication_publicationid  \\\n",
       "1    Historical Newspapers                      54644   \n",
       "2    Historical Newspapers                      54644   \n",
       "3    Historical Newspapers                      54644   \n",
       "5    Historical Newspapers                      54644   \n",
       "6    Historical Newspapers                      54644   \n",
       "..                     ...                        ...   \n",
       "994  Historical Newspapers                      54694   \n",
       "996  Historical Newspapers                      54644   \n",
       "997  Historical Newspapers                      54644   \n",
       "998  Historical Newspapers                      54644   \n",
       "999  Historical Newspapers                      54644   \n",
       "\n",
       "                                              abstract contributor_personname  \\\n",
       "1                                                  NaN                    NaN   \n",
       "2                                                  NaN                    NaN   \n",
       "3    Mumbai: The high court passed an order last ye...                    NaN   \n",
       "5                                                  NaN                    NaN   \n",
       "6    Lieutenant D.G. Bryce, Deputy Assistant Commis...                    NaN   \n",
       "..                                                 ...                    ...   \n",
       "994  WE subjoin a letter on a subject of late frequ...                    NaN   \n",
       "996                                                NaN                    NaN   \n",
       "997  While the government is engaged in a detailed ...                    NaN   \n",
       "998  The Lord Biahop or Madras who is at present on...                    NaN   \n",
       "999  The undertone was easy in the Bomby cilsoad ma...                    NaN   \n",
       "\n",
       "    contributor_lastname                                      urldocview  \\\n",
       "1                    NaN   http://search.proquest.com/docview/739304513/   \n",
       "2                    NaN   http://search.proquest.com/docview/346635909/   \n",
       "3                    NaN  http://search.proquest.com/docview/1809804914/   \n",
       "5                    NaN   http://search.proquest.com/docview/609122232/   \n",
       "6                    NaN   http://search.proquest.com/docview/234144570/   \n",
       "..                   ...                                             ...   \n",
       "994                  NaN   http://search.proquest.com/docview/233847515/   \n",
       "996                  NaN   http://search.proquest.com/docview/507137117/   \n",
       "997                  NaN   http://search.proquest.com/docview/608355385/   \n",
       "998                  NaN   http://search.proquest.com/docview/310889027/   \n",
       "999                  NaN   http://search.proquest.com/docview/744386286/   \n",
       "\n",
       "      datetimestamp publication_qualifier  alphapubdate actioncode  ...  \\\n",
       "1    20170928174009      New Delhi, India  Jul 24, 1983     change  ...   \n",
       "2    20170928165334      New Delhi, India  Apr 28, 1958     change  ...   \n",
       "3    20170928180033      New Delhi, India  Jun 24, 2007     change  ...   \n",
       "5    20170928172217      New Delhi, India   Oct 9, 1926     change  ...   \n",
       "6    20170928163332      New Delhi, India  Jun 30, 1898     change  ...   \n",
       "..              ...                   ...           ...        ...  ...   \n",
       "994  20170928171835         Bombay, India  Aug 23, 1856     change  ...   \n",
       "996  20170928170628      New Delhi, India   Nov 8, 1928     change  ...   \n",
       "997  20170928172049      New Delhi, India  Mar 19, 1994     change  ...   \n",
       "998  20170928163930      New Delhi, India  Mar 15, 1929     change  ...   \n",
       "999  20170928173822      New Delhi, India  Nov 21, 1966     change  ...   \n",
       "\n",
       "    numericpubdate                                    cleanedfulltext  \\\n",
       "1         19830724  hearing of staff union suit against bse by sta...   \n",
       "2         19580428  bombay city suburbs fisherman kills wife daugh...   \n",
       "3         20070624  parents school in faceoff over dyslexic' child...   \n",
       "5         19261009  absconding driver hindu knocked by car and kil...   \n",
       "6         18980630  military intelligence lieutenant . bryce deput...   \n",
       "..             ...                                                ...   \n",
       "994       18560823  wb subjoin a letter on u subjeot of late frequ...   \n",
       "996       19281108  republican control government of united states...   \n",
       "997       19940319  pak studying us n proposal by mb naqvi the tim...   \n",
       "998       19290315  union of churches in south india address by ma...   \n",
       "999       19661121  the market commenced the week on bearish note ...   \n",
       "\n",
       "    flesch_reading_ease  fog        smog  terms uniqueterms       ttr  \\\n",
       "1           -225.666516  NaN  121.768641  287.0         152  0.529617   \n",
       "2           -288.851000  NaN  147.314286  350.0         187  0.535817   \n",
       "3           -171.130610  NaN  103.684553  492.0         239  0.481855   \n",
       "5           -144.088356  NaN   92.714155  219.0         127  0.579909   \n",
       "6                   NaN  NaN         NaN   22.0          22  1.000000   \n",
       "..                  ...  ...         ...    ...         ...       ...   \n",
       "994           47.027813  NaN   17.533929  384.0         153  0.399478   \n",
       "996         -161.126743  NaN   95.823853  218.0         119  0.545872   \n",
       "997         -650.195793  NaN  289.708782  706.0         347  0.491501   \n",
       "998         -360.414907  NaN  177.274766  428.0         231  0.540984   \n",
       "999         -100.101818  NaN   73.030303  165.0         109  0.660606   \n",
       "\n",
       "           mtld       hdd  \n",
       "1     59.071014  0.798904  \n",
       "2     76.268112  0.827223  \n",
       "3    106.574187  0.849251  \n",
       "5     86.408413  0.827451  \n",
       "6     22.000000       NaN  \n",
       "..          ...       ...  \n",
       "994  104.856530  0.830109  \n",
       "996   58.532872  0.776315  \n",
       "997  120.301449  0.853534  \n",
       "998   92.221114  0.828066  \n",
       "999   81.256161  0.798415  \n",
       "\n",
       "[727 rows x 38 columns]"
      ]
     },
     "execution_count": 45,
     "metadata": {},
     "output_type": "execute_result"
    }
   ],
   "source": [
    "df = (pd.read_csv('../data/1000-toi-sample.csv.gzip', compression='gzip')\n",
    "      .clean_names()\n",
    "      # Remove ads\n",
    "      .query('~objecttype.str.contains(\"advert\", case=False)')\n",
    "      .dropna(subset='fulltext')\n",
    "      .assign(fulltext=lambda df: df.fulltext.apply(fix_separated_words))\n",
    "      .assign(\n",
    "          fulltext=lambda df: df.fulltext.apply(clean_transcripts),\n",
    "          # Compute readability\n",
    "          flesch_reading_ease=lambda df: df.fulltext.apply(flesch),\n",
    "          fog=lambda df: df.fulltext.apply(fog), \n",
    "          smog=lambda df: df.fulltext.apply(smog),  \n",
    "          terms=lambda df: df.fulltext.apply(terms),\n",
    "          # Compute lexical richness for text\n",
    "          uniqueterms=lambda df: df.fulltext.apply(uniqueterms), \n",
    "          ttr=lambda df: df.fulltext.apply(ttr),\n",
    "          mtld=lambda df: df.fulltext.apply(mtld),\n",
    "          hdd=lambda df: df.fulltext.apply(hdd),    \n",
    "      )\n",
    "     )\n",
    "df"
   ]
  },
  {
   "cell_type": "code",
   "execution_count": 47,
   "id": "2838f119",
   "metadata": {
    "ExecuteTime": {
     "end_time": "2022-06-19T09:31:26.207179Z",
     "start_time": "2022-06-19T09:31:25.937879Z"
    }
   },
   "outputs": [],
   "source": [
    "(df\n",
    " .to_csv('../data/_toi_textstat.csv.gz', compression=\"gzip\")\n",
    ")"
   ]
  },
  {
   "cell_type": "code",
   "execution_count": 80,
   "id": "fd25cc39",
   "metadata": {
    "ExecuteTime": {
     "end_time": "2022-06-19T09:44:11.154180Z",
     "start_time": "2022-06-19T09:44:11.137175Z"
    }
   },
   "outputs": [
    {
     "data": {
      "text/plain": [
       "Index(['sourcetype', 'publication_publicationid', 'abstract',\n",
       "       'contributor_personname', 'contributor_lastname', 'urldocview',\n",
       "       'datetimestamp', 'publication_qualifier', 'alphapubdate', 'actioncode',\n",
       "       'contributor', 'contributor_persontitle', 'startpage', 'recordid',\n",
       "       'products_product', 'version', 'recordtitle', 'contributor_contribrole',\n",
       "       'contributor_firstname', 'contributor_namesuffix',\n",
       "       'contributor_middlename', 'fulltext', 'objecttype',\n",
       "       'contributor_organizationname', 'publication_title', 'publisher',\n",
       "       'contributor_originalform', 'languagecode', 'numericpubdate',\n",
       "       'cleanedfulltext', 'flesch_reading_ease', 'fog', 'smog', 'terms',\n",
       "       'uniqueterms', 'ttr', 'mtld', 'hdd'],\n",
       "      dtype='object')"
      ]
     },
     "execution_count": 80,
     "metadata": {},
     "output_type": "execute_result"
    }
   ],
   "source": [
    "df.columns"
   ]
  },
  {
   "cell_type": "code",
   "execution_count": null,
   "id": "bff4faf6",
   "metadata": {},
   "outputs": [],
   "source": []
  },
  {
   "cell_type": "code",
   "execution_count": null,
   "id": "e9d4175b",
   "metadata": {},
   "outputs": [],
   "source": []
  },
  {
   "cell_type": "code",
   "execution_count": 25,
   "id": "d6191545",
   "metadata": {
    "ExecuteTime": {
     "end_time": "2022-06-19T09:18:48.588686Z",
     "start_time": "2022-06-19T09:18:48.571690Z"
    }
   },
   "outputs": [],
   "source": []
  },
  {
   "cell_type": "code",
   "execution_count": 78,
   "id": "3edf182b",
   "metadata": {
    "ExecuteTime": {
     "end_time": "2022-06-19T09:40:40.005497Z",
     "start_time": "2022-06-19T09:40:39.993495Z"
    }
   },
   "outputs": [
    {
     "data": {
      "text/plain": [
       "\"FACE OFF IN STYLE Forget facelifts and other cosmetic procedures All it takes is little exercise to get that perfect face BTgives you few tips on facial fitness face eing beautiful on the outside is all about keeping the face young and looking healthy We know that the absence of wrinkles and sags as well as having taut toned smooth and glowing skin are the signs of youthful and healthy beauty Some go through so much just to maintain the vigour and agelessness of their faces so much that they would spend fortune on face lifts and other procedures that would keep them looking as close to 18 years old as possible There is however an inexpensive way of retaining youthful beauty and that is through observing regular facial fitness routine that is exercising the muscles of your face Hollywood stars like Sharon Stone swear by their daily facial fitness routine The idea behind more quickly Maintaining regular facial fitness routine is easy It only takes few minutes of your time and it can be done while watching television or waiting for the stoplight to turn green when driving Here are few sample exercises for different areas of the face Forehead This will smooth down the wrinkles of the forehead Place your fingers just above your brow Then with your fingers pull the skin down At the same time try to raise your eyebrows Repeat this ten times Eyelids To deal with crows' feet at the corners of the eyes put the thumbs at the corners of the eyes and then shut your eyes tightly Then with your thumbs pull at the skin towards the forehead Repeat this ten times For sagging eyelids hold your index fingers close to the brow bone Afterwards raise your eyebrows At the same time try to close your eyes Again repeat this ten times Cheeks Form an O' with your lips and try to push them forward as fast as you can Then release the O' and smile as widely as you can Repeat ten times Lips Push your lips outward in pout as far as you can then smile Or you can suck on your finger as hard as you can Once again repeat ten times Neck Arch your neck backward and place your hand on your neck just under the chin After that let your hand slide downward and push at your collarbone An alternative to this one would be to push your lower lip outward as far as you can and tilt your chin up toward the ceiling resting the hand against the collarbone as you are doing so Just like in total body workouts facial fitness exercises take time However if you truly want to see results on your face try doing this once or twice day five times week You will be able to see changes in around month or two Hollywood star Sharon Stone swears by her daily facial fitness routine\""
      ]
     },
     "execution_count": 78,
     "metadata": {},
     "output_type": "execute_result"
    }
   ],
   "source": [
    "a = df.loc[24, 'fulltext']\n",
    "a"
   ]
  },
  {
   "cell_type": "code",
   "execution_count": 79,
   "id": "a66f8693",
   "metadata": {
    "ExecuteTime": {
     "end_time": "2022-06-19T09:40:40.273559Z",
     "start_time": "2022-06-19T09:40:40.256554Z"
    }
   },
   "outputs": [
    {
     "data": {
      "text/plain": [
       "\"['Feature', 'Article']\""
      ]
     },
     "execution_count": 79,
     "metadata": {},
     "output_type": "execute_result"
    }
   ],
   "source": [
    "a = df.loc[18, 'objecttype']\n",
    "a"
   ]
  },
  {
   "cell_type": "code",
   "execution_count": 11,
   "id": "ab374e39",
   "metadata": {
    "ExecuteTime": {
     "end_time": "2022-06-19T09:12:24.237894Z",
     "start_time": "2022-06-19T09:12:24.178877Z"
    }
   },
   "outputs": [],
   "source": [
    "from autocorrect import Speller\n",
    "spell = Speller()\n"
   ]
  },
  {
   "cell_type": "code",
   "execution_count": 22,
   "id": "8c0c6daa",
   "metadata": {
    "ExecuteTime": {
     "end_time": "2022-06-19T09:17:05.794673Z",
     "start_time": "2022-06-19T09:17:05.786671Z"
    }
   },
   "outputs": [
    {
     "data": {
      "text/plain": [
       "'in different units particular-  ly'"
      ]
     },
     "execution_count": 22,
     "metadata": {},
     "output_type": "execute_result"
    }
   ],
   "source": [
    "b = 'in different units particular-  ly'\n",
    "b"
   ]
  },
  {
   "cell_type": "code",
   "execution_count": 23,
   "id": "62fe6c50",
   "metadata": {
    "ExecuteTime": {
     "end_time": "2022-06-19T09:17:05.998975Z",
     "start_time": "2022-06-19T09:17:05.986971Z"
    }
   },
   "outputs": [
    {
     "data": {
      "text/plain": [
       "'in different units particular- ly'"
      ]
     },
     "execution_count": 23,
     "metadata": {},
     "output_type": "execute_result"
    }
   ],
   "source": [
    "# Remove extra whitespaces \n",
    "import re\n",
    "re_extra_whitespaces = re.compile(r\"\\s+\")\n",
    "text = re_extra_whitespaces.sub(\" \", b).strip()    \n",
    "text"
   ]
  },
  {
   "cell_type": "code",
   "execution_count": 28,
   "id": "27e770c4",
   "metadata": {
    "ExecuteTime": {
     "end_time": "2022-06-19T09:20:04.959435Z",
     "start_time": "2022-06-19T09:20:04.954434Z"
    }
   },
   "outputs": [
    {
     "data": {
      "text/plain": [
       "'Hearing of staff union suit against BSE By Staff Reporter BOMBAY July 23 The statement by Mr Laldas Jamnadas president of the Bombay Stock Exchange published in the issue of July 21 that the Bombay Share Bazar Staff Union has moved vthe City Civil Court challenging the issue of gate passes to share broken by the stock exchange authorities and that the court had ruled that the stock exchange building being the property of the stock exchange the authorities of the stock exchange have right to refuse entry to any one particular at time when share worth crores of rupees are to be delivered by the member brokers was erroneously given The error is regretted Actually the Bombay City Civil Court passed an ad-interim injunction on July 21 restraining the stock exchange from barring employees of share brokers from entering the building to perform their duties The ad-interim injunction was granted pending the hearing and final disposal of the notice of motion moved by the members of the union The matter will now come up before Mr Justice Dingal on August 11 This report was published on July 22 Tax planning urged in materials management By Staff Reporter BOMBAY July 23 Mr Pradirector MIDCO has pointed out that the materials manager with good knowledge of tax laws could reduce the incidence of various taxes without flouting the statutory regulations Mr Prabhakar who was inaugurating the two-day training course on tax laws for materials managers organised by the Indian Institute of Materials Management stressed the importance of materials managers in different units particularly when the taxation laws were becoming more and more complex He urged the materials managers to follow tax planning in way that it would lead to tax savings'"
      ]
     },
     "execution_count": 28,
     "metadata": {},
     "output_type": "execute_result"
    }
   ],
   "source": [
    "a = fix_separated_words(df.loc[1, 'fulltext'])\n",
    "a"
   ]
  },
  {
   "cell_type": "code",
   "execution_count": null,
   "id": "4c353a0e",
   "metadata": {},
   "outputs": [],
   "source": []
  },
  {
   "cell_type": "code",
   "execution_count": 16,
   "id": "d16e4961",
   "metadata": {
    "ExecuteTime": {
     "end_time": "2022-06-19T09:14:57.240522Z",
     "start_time": "2022-06-19T09:14:57.234520Z"
    }
   },
   "outputs": [
    {
     "data": {
      "text/plain": [
       "'in different units particularly'"
      ]
     },
     "execution_count": 16,
     "metadata": {},
     "output_type": "execute_result"
    }
   ],
   "source": [
    "b.replace('- ', '')"
   ]
  },
  {
   "cell_type": "code",
   "execution_count": 14,
   "id": "141872cb",
   "metadata": {
    "ExecuteTime": {
     "end_time": "2022-06-19T09:13:07.931122Z",
     "start_time": "2022-06-19T09:13:07.923121Z"
    }
   },
   "outputs": [
    {
     "data": {
      "text/plain": [
       "'in different units particular- ly'"
      ]
     },
     "execution_count": 14,
     "metadata": {},
     "output_type": "execute_result"
    }
   ],
   "source": [
    "spell('in different units particular- ly')"
   ]
  },
  {
   "cell_type": "code",
   "execution_count": null,
   "id": "d78244ba",
   "metadata": {},
   "outputs": [],
   "source": []
  }
 ],
 "metadata": {
  "kernelspec": {
   "display_name": "Python 3",
   "language": "python",
   "name": "python3"
  },
  "language_info": {
   "codemirror_mode": {
    "name": "ipython",
    "version": 3
   },
   "file_extension": ".py",
   "mimetype": "text/x-python",
   "name": "python",
   "nbconvert_exporter": "python",
   "pygments_lexer": "ipython3",
   "version": "3.9.12"
  },
  "toc": {
   "base_numbering": 1,
   "nav_menu": {},
   "number_sections": true,
   "sideBar": true,
   "skip_h1_title": false,
   "title_cell": "Table of Contents",
   "title_sidebar": "Contents",
   "toc_cell": false,
   "toc_position": {},
   "toc_section_display": true,
   "toc_window_display": false
  },
  "varInspector": {
   "cols": {
    "lenName": 16,
    "lenType": 16,
    "lenVar": 40
   },
   "kernels_config": {
    "python": {
     "delete_cmd_postfix": "",
     "delete_cmd_prefix": "del ",
     "library": "var_list.py",
     "varRefreshCmd": "print(var_dic_list())"
    },
    "r": {
     "delete_cmd_postfix": ") ",
     "delete_cmd_prefix": "rm(",
     "library": "var_list.r",
     "varRefreshCmd": "cat(var_dic_list()) "
    }
   },
   "types_to_exclude": [
    "module",
    "function",
    "builtin_function_or_method",
    "instance",
    "_Feature"
   ],
   "window_display": false
  }
 },
 "nbformat": 4,
 "nbformat_minor": 5
}
